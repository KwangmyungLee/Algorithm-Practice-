{
  "nbformat": 4,
  "nbformat_minor": 0,
  "metadata": {
    "colab": {
      "name": "Copy of _NumPy 한번에 제대로 배우기.ipynb",
      "provenance": [],
      "collapsed_sections": [
        "1kgkJZFlVUqk",
        "5eQ4sAkMbzm0",
        "PNkKtw4CoSDB",
        "apoksGJNrn1z",
        "6_88s4_Jr7fO",
        "5ts0cYLQL_pT",
        "1qFumu-p-0mQ",
        "d88tkTqbBE5V",
        "vRqwfbjtFnPn",
        "LV1WfdBWFqDu",
        "uSeXu2y_O4cu",
        "LD52bXAsBgbH",
        "R5hes-hdBujH",
        "zajd1qpVOQYy",
        "OlEzG4ffNjyL",
        "emV7DgrITPcn",
        "Ec09aPeBO58M",
        "M7xN8WdOdb_S",
        "FR82RSDggbcJ",
        "r9z2gD_pHyx9",
        "9sTza3b2hoe4"
      ],
      "toc_visible": true,
      "include_colab_link": true
    },
    "kernelspec": {
      "name": "python3",
      "display_name": "Python 3"
    }
  },
  "cells": [
    {
      "cell_type": "markdown",
      "metadata": {
        "id": "view-in-github",
        "colab_type": "text"
      },
      "source": [
        "<a href=\"https://colab.research.google.com/github/KwangmyungLee/Algorithm-Practice-/blob/main/Copy_of__NumPy_%ED%95%9C%EB%B2%88%EC%97%90_%EC%A0%9C%EB%8C%80%EB%A1%9C_%EB%B0%B0%EC%9A%B0%EA%B8%B0.ipynb\" target=\"_parent\"><img src=\"https://colab.research.google.com/assets/colab-badge.svg\" alt=\"Open In Colab\"/></a>"
      ]
    },
    {
      "cell_type": "markdown",
      "metadata": {
        "id": "J_FfQuu2Tb30"
      },
      "source": [
        "# NumPy 한번에 제대로 배우기"
      ]
    },
    {
      "cell_type": "markdown",
      "metadata": {
        "id": "Zgrrh9T2vs8u"
      },
      "source": [
        "\n",
        "\n",
        "---\n",
        "\n"
      ]
    },
    {
      "cell_type": "markdown",
      "metadata": {
        "id": "oR5hNBH-Retd"
      },
      "source": [
        "## NumPy 특징\n",
        "\n",
        "* Numerical Python의 약자\n",
        "* 고성능 과학 계산용 패키지로 강력한 N차원 배열 객체\n",
        "* 범용적 데이터 처리에 사용 가능한 다차원 컨테이너\n",
        "* 정교한 브로드캐스팅(broadcasting) 기능\n",
        "* 파이썬의 자료형 list와 비슷하지만, 더 빠르고 메모리를 효율적으로 관리\n",
        "* 반복문 없이 데이터 배열에 대한 처리를 지원하여 빠르고 편리\n",
        "* 데이터 과학 도구에 대한 생태계의 핵심을 이루고 있음"
      ]
    },
    {
      "cell_type": "markdown",
      "metadata": {
        "id": "_rgEhWEZM1Ij"
      },
      "source": [
        ""
      ]
    },
    {
      "cell_type": "code",
      "metadata": {
        "id": "R9klTdhLQ564",
        "colab": {
          "base_uri": "https://localhost:8080/",
          "height": 35
        },
        "outputId": "fca6e27d-ca63-4359-f289-9ef6c36e46b2"
      },
      "source": [
        "import numpy as np\n",
        "np.__version__"
      ],
      "execution_count": null,
      "outputs": [
        {
          "output_type": "execute_result",
          "data": {
            "application/vnd.google.colaboratory.intrinsic+json": {
              "type": "string"
            },
            "text/plain": [
              "'1.19.5'"
            ]
          },
          "metadata": {
            "tags": []
          },
          "execution_count": 2
        }
      ]
    },
    {
      "cell_type": "code",
      "metadata": {
        "id": "zbaFDJgfXjos"
      },
      "source": [
        ""
      ],
      "execution_count": null,
      "outputs": []
    },
    {
      "cell_type": "markdown",
      "metadata": {
        "id": "2hSWC5ptGyWP"
      },
      "source": [
        "\n",
        "\n",
        "---\n",
        "\n"
      ]
    },
    {
      "cell_type": "markdown",
      "metadata": {
        "id": "1kgkJZFlVUqk"
      },
      "source": [
        "## 배열 생성"
      ]
    },
    {
      "cell_type": "markdown",
      "metadata": {
        "id": "5eQ4sAkMbzm0"
      },
      "source": [
        "### 리스트로 배열 만들기\n"
      ]
    },
    {
      "cell_type": "code",
      "metadata": {
        "id": "Mtod2jcPWVvV",
        "colab": {
          "base_uri": "https://localhost:8080/"
        },
        "outputId": "3f0b2a54-56c7-429b-b8ec-f5e5959c6d67"
      },
      "source": [
        "a1 = np.array([1,2,3,4,5])\n",
        "print(a1)\n",
        "print(type(a1))\n",
        "print(a1.shape)\n",
        "print(a1[0], a1[1], a1[2], a1[3], a1[4])\n",
        "a1[0] = 4\n",
        "a1[1] = 5\n",
        "a1[2] = 6\n",
        "print(a1)"
      ],
      "execution_count": null,
      "outputs": [
        {
          "output_type": "stream",
          "text": [
            "[1 2 3 4 5]\n",
            "<class 'numpy.ndarray'>\n",
            "(5,)\n",
            "1 2 3 4 5\n",
            "[4 5 6 4 5]\n"
          ],
          "name": "stdout"
        }
      ]
    },
    {
      "cell_type": "code",
      "metadata": {
        "id": "vp9tkHH8esXT",
        "colab": {
          "base_uri": "https://localhost:8080/"
        },
        "outputId": "4f279be5-6b65-4104-a6b9-0e310d050714"
      },
      "source": [
        "a2 = np.array([[1,2,3], [4,5,6], [7,8,9]])\n",
        "print(a2)\n",
        "print(a2.shape)\n",
        "print(a2[0,0], a2[1,1], a2[2,2])"
      ],
      "execution_count": null,
      "outputs": [
        {
          "output_type": "stream",
          "text": [
            "[[1 2 3]\n",
            " [4 5 6]\n",
            " [7 8 9]]\n",
            "(3, 3)\n",
            "1 5 9\n"
          ],
          "name": "stdout"
        }
      ]
    },
    {
      "cell_type": "code",
      "metadata": {
        "id": "Baj4gZ2meuJu",
        "colab": {
          "base_uri": "https://localhost:8080/"
        },
        "outputId": "e3c387f4-0dfb-442d-a34d-5cf1d3b6cf10"
      },
      "source": [
        "a3 = np.array([[ [1,2,3], [4,5,6], [7,8,9] ],\n",
        "               [ [1,2,3], [4,5,6], [7,8,9] ],\n",
        "               [ [1,2,3], [4,5,6], [7,8,9] ]])\n",
        "print(a3)\n",
        "print(a3.shape)\n",
        "               \n",
        "               "
      ],
      "execution_count": null,
      "outputs": [
        {
          "output_type": "stream",
          "text": [
            "[[[1 2 3]\n",
            "  [4 5 6]\n",
            "  [7 8 9]]\n",
            "\n",
            " [[1 2 3]\n",
            "  [4 5 6]\n",
            "  [7 8 9]]\n",
            "\n",
            " [[1 2 3]\n",
            "  [4 5 6]\n",
            "  [7 8 9]]]\n",
            "(3, 3, 3)\n"
          ],
          "name": "stdout"
        }
      ]
    },
    {
      "cell_type": "markdown",
      "metadata": {
        "id": "PNkKtw4CoSDB"
      },
      "source": [
        "### 배열 생성 및 초기화"
      ]
    },
    {
      "cell_type": "markdown",
      "metadata": {
        "id": "mJVii5p_VfgM"
      },
      "source": [
        "* `zeros()`: 모든 요소를 0으로 초기화"
      ]
    },
    {
      "cell_type": "code",
      "metadata": {
        "id": "W_SF1tVoVTf1",
        "colab": {
          "base_uri": "https://localhost:8080/"
        },
        "outputId": "aa13d360-436f-4dec-8a75-70522e6f0cbc"
      },
      "source": [
        "np.zeros(10)"
      ],
      "execution_count": null,
      "outputs": [
        {
          "output_type": "execute_result",
          "data": {
            "text/plain": [
              "array([0., 0., 0., 0., 0., 0., 0., 0., 0., 0.])"
            ]
          },
          "metadata": {
            "tags": []
          },
          "execution_count": 202
        }
      ]
    },
    {
      "cell_type": "markdown",
      "metadata": {
        "id": "LjYFQrODVqhX"
      },
      "source": [
        "* `ones()`: 모든 요소를 1로 초기화"
      ]
    },
    {
      "cell_type": "code",
      "metadata": {
        "id": "MURoqsMsVeUw",
        "colab": {
          "base_uri": "https://localhost:8080/"
        },
        "outputId": "7e3a3bbb-c413-4f47-97a9-bf339d5685f4"
      },
      "source": [
        "np.ones((3,3))"
      ],
      "execution_count": null,
      "outputs": [
        {
          "output_type": "execute_result",
          "data": {
            "text/plain": [
              "array([[1., 1., 1.],\n",
              "       [1., 1., 1.],\n",
              "       [1., 1., 1.]])"
            ]
          },
          "metadata": {
            "tags": []
          },
          "execution_count": 203
        }
      ]
    },
    {
      "cell_type": "markdown",
      "metadata": {
        "id": "jnmm3Cj-cGtx"
      },
      "source": [
        "* `full()`: 모든 요소를 지정한 값으로 초기화"
      ]
    },
    {
      "cell_type": "code",
      "metadata": {
        "id": "oscabrdcV7Ny",
        "colab": {
          "base_uri": "https://localhost:8080/"
        },
        "outputId": "4f657799-b95a-4e4a-d701-a8a8977331db"
      },
      "source": [
        "np.full((3,3), 1.23)"
      ],
      "execution_count": null,
      "outputs": [
        {
          "output_type": "execute_result",
          "data": {
            "text/plain": [
              "array([[1.23, 1.23, 1.23],\n",
              "       [1.23, 1.23, 1.23],\n",
              "       [1.23, 1.23, 1.23]])"
            ]
          },
          "metadata": {
            "tags": []
          },
          "execution_count": 204
        }
      ]
    },
    {
      "cell_type": "markdown",
      "metadata": {
        "id": "0SRI4jbmlIKc"
      },
      "source": [
        "* `eye()`: 단위행렬(identity matrix) 생성\n",
        "  + 주대각선의 원소가 모두 1이고 나머지 원소는 모두 0인 정사각 행렬"
      ]
    },
    {
      "cell_type": "code",
      "metadata": {
        "id": "VceBVLLjk9o5",
        "colab": {
          "base_uri": "https://localhost:8080/"
        },
        "outputId": "d96f70b3-7b44-4a29-8117-e078db03632d"
      },
      "source": [
        "np.eye(3)"
      ],
      "execution_count": null,
      "outputs": [
        {
          "output_type": "execute_result",
          "data": {
            "text/plain": [
              "array([[1., 0., 0.],\n",
              "       [0., 1., 0.],\n",
              "       [0., 0., 1.]])"
            ]
          },
          "metadata": {
            "tags": []
          },
          "execution_count": 205
        }
      ]
    },
    {
      "cell_type": "markdown",
      "metadata": {
        "id": "7CCH1ZMT5R02"
      },
      "source": [
        "* `tri()`: 삼각행렬 생성"
      ]
    },
    {
      "cell_type": "code",
      "metadata": {
        "id": "mLe2Bhj05VYu",
        "colab": {
          "base_uri": "https://localhost:8080/"
        },
        "outputId": "ac06a21d-a49c-4f1d-e541-a0e7d68a9dbf"
      },
      "source": [
        "np.tri(3)"
      ],
      "execution_count": null,
      "outputs": [
        {
          "output_type": "execute_result",
          "data": {
            "text/plain": [
              "array([[1., 0., 0.],\n",
              "       [1., 1., 0.],\n",
              "       [1., 1., 1.]])"
            ]
          },
          "metadata": {
            "tags": []
          },
          "execution_count": 206
        }
      ]
    },
    {
      "cell_type": "markdown",
      "metadata": {
        "id": "ObZRA4HclZlO"
      },
      "source": [
        "* `empty()`: 초기화되지 않은 배열 생성\n",
        "  + 초기화가 없어서 배열 생성비용 저렴하고 빠름\n",
        "  + 초기화되지 않아서 기존 메모리 위치에 존재하는 값이 있음"
      ]
    },
    {
      "cell_type": "code",
      "metadata": {
        "id": "I3SoFgiglAkz",
        "colab": {
          "base_uri": "https://localhost:8080/"
        },
        "outputId": "096c793c-b4ea-4966-a80c-f26f72253686"
      },
      "source": [
        "np.empty(10)"
      ],
      "execution_count": null,
      "outputs": [
        {
          "output_type": "execute_result",
          "data": {
            "text/plain": [
              "array([0., 0., 0., 0., 0., 0., 0., 0., 0., 0.])"
            ]
          },
          "metadata": {
            "tags": []
          },
          "execution_count": 207
        }
      ]
    },
    {
      "cell_type": "markdown",
      "metadata": {
        "id": "p3uSl1Ccmi5_"
      },
      "source": [
        "* `_like()`: 지정된 배열과 shape가 같은 행렬 생성\n",
        "  + `np.zeros_like()`\n",
        "  + `np.ones_like()`\n",
        "  + `np.full_like()`\n",
        "  + `np.empty_like()`"
      ]
    },
    {
      "cell_type": "code",
      "metadata": {
        "id": "Ad5RskRRlZLs",
        "colab": {
          "base_uri": "https://localhost:8080/"
        },
        "outputId": "88390595-da79-4200-df55-c1cd71eefdcd"
      },
      "source": [
        "print(a1)\n",
        "np.zeros_like(a1)"
      ],
      "execution_count": null,
      "outputs": [
        {
          "output_type": "stream",
          "text": [
            "[4 5 6 4 5]\n"
          ],
          "name": "stdout"
        },
        {
          "output_type": "execute_result",
          "data": {
            "text/plain": [
              "array([0, 0, 0, 0, 0])"
            ]
          },
          "metadata": {
            "tags": []
          },
          "execution_count": 208
        }
      ]
    },
    {
      "cell_type": "code",
      "metadata": {
        "id": "KChUHsG003Nf",
        "colab": {
          "base_uri": "https://localhost:8080/"
        },
        "outputId": "5327ea18-7d91-46d0-f4cc-ec898af69b8d"
      },
      "source": [
        "print(a2)\n",
        "np.ones_like(a2)"
      ],
      "execution_count": null,
      "outputs": [
        {
          "output_type": "stream",
          "text": [
            "[[1 2 3]\n",
            " [4 5 6]\n",
            " [7 8 9]]\n"
          ],
          "name": "stdout"
        },
        {
          "output_type": "execute_result",
          "data": {
            "text/plain": [
              "array([[1, 1, 1],\n",
              "       [1, 1, 1],\n",
              "       [1, 1, 1]])"
            ]
          },
          "metadata": {
            "tags": []
          },
          "execution_count": 209
        }
      ]
    },
    {
      "cell_type": "code",
      "metadata": {
        "id": "PUnDz6b305Gg",
        "colab": {
          "base_uri": "https://localhost:8080/"
        },
        "outputId": "efb46ed1-1d0e-46b2-b9fd-ab1733419429"
      },
      "source": [
        "print(a3)\n",
        "np.full_like(a3, 10)"
      ],
      "execution_count": null,
      "outputs": [
        {
          "output_type": "stream",
          "text": [
            "[[[1 2 3]\n",
            "  [4 5 6]\n",
            "  [7 8 9]]\n",
            "\n",
            " [[1 2 3]\n",
            "  [4 5 6]\n",
            "  [7 8 9]]\n",
            "\n",
            " [[1 2 3]\n",
            "  [4 5 6]\n",
            "  [7 8 9]]]\n"
          ],
          "name": "stdout"
        },
        {
          "output_type": "execute_result",
          "data": {
            "text/plain": [
              "array([[[10, 10, 10],\n",
              "        [10, 10, 10],\n",
              "        [10, 10, 10]],\n",
              "\n",
              "       [[10, 10, 10],\n",
              "        [10, 10, 10],\n",
              "        [10, 10, 10]],\n",
              "\n",
              "       [[10, 10, 10],\n",
              "        [10, 10, 10],\n",
              "        [10, 10, 10]]])"
            ]
          },
          "metadata": {
            "tags": []
          },
          "execution_count": 210
        }
      ]
    },
    {
      "cell_type": "markdown",
      "metadata": {
        "id": "apoksGJNrn1z"
      },
      "source": [
        "### 생성한 값으로 배열 생성"
      ]
    },
    {
      "cell_type": "markdown",
      "metadata": {
        "id": "H3nmLct8cnV8"
      },
      "source": [
        "* `arange()`: 정수 범위로 배열 생성"
      ]
    },
    {
      "cell_type": "code",
      "metadata": {
        "id": "mANy4WY4cDKa",
        "colab": {
          "base_uri": "https://localhost:8080/"
        },
        "outputId": "d88d0d23-ccaf-4fed-d25e-8f4decff39d3"
      },
      "source": [
        "np.arange(0, 30, 2)"
      ],
      "execution_count": null,
      "outputs": [
        {
          "output_type": "execute_result",
          "data": {
            "text/plain": [
              "array([ 0,  2,  4,  6,  8, 10, 12, 14, 16, 18, 20, 22, 24, 26, 28])"
            ]
          },
          "metadata": {
            "tags": []
          },
          "execution_count": 211
        }
      ]
    },
    {
      "cell_type": "markdown",
      "metadata": {
        "id": "s5kET1e6itlo"
      },
      "source": [
        "* `linspace()`: 범위 내에서 균등 간격의 배열 생성"
      ]
    },
    {
      "cell_type": "code",
      "metadata": {
        "id": "u4q9gI7Zcltz",
        "colab": {
          "base_uri": "https://localhost:8080/"
        },
        "outputId": "3bf83fd5-0bb6-4642-bef5-9491d364a06f"
      },
      "source": [
        "np.linspace(0, 1, 5)"
      ],
      "execution_count": null,
      "outputs": [
        {
          "output_type": "execute_result",
          "data": {
            "text/plain": [
              "array([0.  , 0.25, 0.5 , 0.75, 1.  ])"
            ]
          },
          "metadata": {
            "tags": []
          },
          "execution_count": 212
        }
      ]
    },
    {
      "cell_type": "markdown",
      "metadata": {
        "id": "Eq26d7T3nnAH"
      },
      "source": [
        "* `logspace()`: 범위 내에서 균등간격으로 로그 스케일로 배열 생성"
      ]
    },
    {
      "cell_type": "code",
      "metadata": {
        "id": "-O29WBVEnyXX",
        "colab": {
          "base_uri": "https://localhost:8080/"
        },
        "outputId": "dcd3320b-562a-4421-bb7c-cea2b976b774"
      },
      "source": [
        "np.logspace(0.1, 1, 20)"
      ],
      "execution_count": null,
      "outputs": [
        {
          "output_type": "execute_result",
          "data": {
            "text/plain": [
              "array([ 1.25892541,  1.40400425,  1.565802  ,  1.74624535,  1.94748304,\n",
              "        2.1719114 ,  2.42220294,  2.70133812,  3.0126409 ,  3.35981829,\n",
              "        3.74700446,  4.17881006,  4.66037703,  5.19743987,  5.79639395,\n",
              "        6.46437163,  7.2093272 ,  8.04013161,  8.9666781 , 10.        ])"
            ]
          },
          "metadata": {
            "tags": []
          },
          "execution_count": 213
        }
      ]
    },
    {
      "cell_type": "markdown",
      "metadata": {
        "id": "6_88s4_Jr7fO"
      },
      "source": [
        "### 랜덤값으로 배열 생성\n"
      ]
    },
    {
      "cell_type": "markdown",
      "metadata": {
        "id": "CoK1cVUkjNMg"
      },
      "source": [
        "* `random.random()`: 랜덤한 수의 배열 생성"
      ]
    },
    {
      "cell_type": "code",
      "metadata": {
        "id": "qJwccKEnjMze",
        "colab": {
          "base_uri": "https://localhost:8080/"
        },
        "outputId": "2b40c8d8-c614-429a-9ffc-1336dc994377"
      },
      "source": [
        "np.random.random((3,3))"
      ],
      "execution_count": null,
      "outputs": [
        {
          "output_type": "execute_result",
          "data": {
            "text/plain": [
              "array([[0.26790098, 0.69846348, 0.75286708],\n",
              "       [0.87232071, 0.12331322, 0.23109284],\n",
              "       [0.62959396, 0.11620369, 0.22078201]])"
            ]
          },
          "metadata": {
            "tags": []
          },
          "execution_count": 214
        }
      ]
    },
    {
      "cell_type": "markdown",
      "metadata": {
        "id": "BYsAVwA1kvDI"
      },
      "source": [
        "* `random.randint()`: 일정 구간의 랜덤 정수의 배열 생성"
      ]
    },
    {
      "cell_type": "code",
      "metadata": {
        "id": "oR-UszZ_jqfQ",
        "colab": {
          "base_uri": "https://localhost:8080/"
        },
        "outputId": "3437ed12-1e12-41a5-da1f-94a7b9b72cd2"
      },
      "source": [
        "np.random.randint(0, 10, (3,3))"
      ],
      "execution_count": null,
      "outputs": [
        {
          "output_type": "execute_result",
          "data": {
            "text/plain": [
              "array([[9, 4, 4],\n",
              "       [2, 0, 9],\n",
              "       [2, 8, 0]])"
            ]
          },
          "metadata": {
            "tags": []
          },
          "execution_count": 215
        }
      ]
    },
    {
      "cell_type": "markdown",
      "metadata": {
        "id": "2r557WHsjrL3"
      },
      "source": [
        "* `random.normal()`: 정규분포(normal distribution)를 고려한 랜덤한 수의 배열 생성\n",
        "* 평균=0, 표준편차=1, 3 x 3 배열"
      ]
    },
    {
      "cell_type": "code",
      "metadata": {
        "id": "aHGCIe_PeARe",
        "colab": {
          "base_uri": "https://localhost:8080/"
        },
        "outputId": "e91c94cf-1ac4-48b1-d305-8ddbb9b23736"
      },
      "source": [
        "\n",
        "np.random.normal(0,1, (3,3))"
      ],
      "execution_count": null,
      "outputs": [
        {
          "output_type": "execute_result",
          "data": {
            "text/plain": [
              "array([[-0.01508715,  0.24262621, -0.85953356],\n",
              "       [-0.18317123,  0.14827139, -0.11532314],\n",
              "       [-0.82981895, -0.57427079, -1.90075734]])"
            ]
          },
          "metadata": {
            "tags": []
          },
          "execution_count": 216
        }
      ]
    },
    {
      "cell_type": "code",
      "metadata": {
        "id": "Oan3bSpHi2Wq",
        "colab": {
          "base_uri": "https://localhost:8080/"
        },
        "outputId": "1507962d-b0d0-4768-fb54-17d82f267b43"
      },
      "source": [
        "np.random.rand(3,3)"
      ],
      "execution_count": null,
      "outputs": [
        {
          "output_type": "execute_result",
          "data": {
            "text/plain": [
              "array([[0.77202221, 0.75813176, 0.69913971],\n",
              "       [0.48556338, 0.51070112, 0.72021546],\n",
              "       [0.85045786, 0.36503998, 0.04723476]])"
            ]
          },
          "metadata": {
            "tags": []
          },
          "execution_count": 217
        }
      ]
    },
    {
      "cell_type": "markdown",
      "metadata": {
        "id": "fPO-D1rHsrFw"
      },
      "source": [
        "* `random.rand()`: 균등분포(uniform distribution)를 고려한 랜덤한 수의 배열 생성"
      ]
    },
    {
      "cell_type": "code",
      "metadata": {
        "id": "DxiyEjnXnDUT",
        "colab": {
          "base_uri": "https://localhost:8080/"
        },
        "outputId": "2464fb3f-0321-43f6-d8c1-873950d5fb04"
      },
      "source": [
        "np.random.randn(3,3)"
      ],
      "execution_count": null,
      "outputs": [
        {
          "output_type": "execute_result",
          "data": {
            "text/plain": [
              "array([[ 1.07587225, -0.64374493, -0.65785832],\n",
              "       [ 0.15464793,  0.10027031,  0.96707387],\n",
              "       [ 0.02442652, -0.04903947,  1.50056052]])"
            ]
          },
          "metadata": {
            "tags": []
          },
          "execution_count": 218
        }
      ]
    },
    {
      "cell_type": "markdown",
      "metadata": {
        "id": "IegH2dsPLQgd"
      },
      "source": [
        "* `random.randn()`: 표준 정규 분포(standard normal distribution)를 고려한 랜덤한 수의 배열 생성"
      ]
    },
    {
      "cell_type": "code",
      "metadata": {
        "id": "V61VHa-JLIma"
      },
      "source": [
        ""
      ],
      "execution_count": null,
      "outputs": []
    },
    {
      "cell_type": "markdown",
      "metadata": {
        "id": "5ts0cYLQL_pT"
      },
      "source": [
        "### 표준 데이터 타입"
      ]
    },
    {
      "cell_type": "code",
      "metadata": {
        "id": "rxqTqAFKL73y",
        "colab": {
          "base_uri": "https://localhost:8080/"
        },
        "outputId": "f3e3e538-03b8-4996-f0a0-86bae150501a"
      },
      "source": [
        "np.zeros(20, dtype=int)"
      ],
      "execution_count": null,
      "outputs": [
        {
          "output_type": "execute_result",
          "data": {
            "text/plain": [
              "array([0, 0, 0, 0, 0, 0, 0, 0, 0, 0, 0, 0, 0, 0, 0, 0, 0, 0, 0, 0])"
            ]
          },
          "metadata": {
            "tags": []
          },
          "execution_count": 219
        }
      ]
    },
    {
      "cell_type": "code",
      "metadata": {
        "id": "o9TuSl6HIsXr",
        "colab": {
          "base_uri": "https://localhost:8080/"
        },
        "outputId": "0f8431d0-01f2-470b-be0d-cbe05e8f949b"
      },
      "source": [
        "np.ones((3,3), dtype=bool)"
      ],
      "execution_count": null,
      "outputs": [
        {
          "output_type": "execute_result",
          "data": {
            "text/plain": [
              "array([[ True,  True,  True],\n",
              "       [ True,  True,  True],\n",
              "       [ True,  True,  True]])"
            ]
          },
          "metadata": {
            "tags": []
          },
          "execution_count": 220
        }
      ]
    },
    {
      "cell_type": "code",
      "metadata": {
        "id": "w-TciNfzEhY0",
        "colab": {
          "base_uri": "https://localhost:8080/"
        },
        "outputId": "1ff4250d-6771-44e7-fec1-7c35d9268bb5"
      },
      "source": [
        "np.full((3,3), 1.0, dtype=float)"
      ],
      "execution_count": null,
      "outputs": [
        {
          "output_type": "execute_result",
          "data": {
            "text/plain": [
              "array([[1., 1., 1.],\n",
              "       [1., 1., 1.],\n",
              "       [1., 1., 1.]])"
            ]
          },
          "metadata": {
            "tags": []
          },
          "execution_count": 221
        }
      ]
    },
    {
      "cell_type": "markdown",
      "metadata": {
        "id": "1qFumu-p-0mQ"
      },
      "source": [
        "### 날짜/시간 배열 생성\n"
      ]
    },
    {
      "cell_type": "code",
      "metadata": {
        "id": "D8ozvTUf-6Rr",
        "colab": {
          "base_uri": "https://localhost:8080/"
        },
        "outputId": "f7eb4627-8418-4577-ecb9-c2244543ab52"
      },
      "source": [
        "date = np.array('2020-01-01', dtype=np.datetime64)\n",
        "date"
      ],
      "execution_count": null,
      "outputs": [
        {
          "output_type": "execute_result",
          "data": {
            "text/plain": [
              "array('2020-01-01', dtype='datetime64[D]')"
            ]
          },
          "metadata": {
            "tags": []
          },
          "execution_count": 222
        }
      ]
    },
    {
      "cell_type": "code",
      "metadata": {
        "id": "XIjLUkn6_K3J",
        "colab": {
          "base_uri": "https://localhost:8080/"
        },
        "outputId": "0be7a624-fdbd-436a-dc97-cadf00f374d4"
      },
      "source": [
        "date + np.arange(12)"
      ],
      "execution_count": null,
      "outputs": [
        {
          "output_type": "execute_result",
          "data": {
            "text/plain": [
              "array(['2020-01-01', '2020-01-02', '2020-01-03', '2020-01-04',\n",
              "       '2020-01-05', '2020-01-06', '2020-01-07', '2020-01-08',\n",
              "       '2020-01-09', '2020-01-10', '2020-01-11', '2020-01-12'],\n",
              "      dtype='datetime64[D]')"
            ]
          },
          "metadata": {
            "tags": []
          },
          "execution_count": 223
        }
      ]
    },
    {
      "cell_type": "code",
      "metadata": {
        "id": "EO7yE5VR_Wlh",
        "colab": {
          "base_uri": "https://localhost:8080/"
        },
        "outputId": "b5f3bab3-1d6f-4009-a9e4-3301b60bd523"
      },
      "source": [
        "datetime = np.datetime64('2020-06-01 12:00')\n",
        "datetime"
      ],
      "execution_count": null,
      "outputs": [
        {
          "output_type": "execute_result",
          "data": {
            "text/plain": [
              "numpy.datetime64('2020-06-01T12:00')"
            ]
          },
          "metadata": {
            "tags": []
          },
          "execution_count": 224
        }
      ]
    },
    {
      "cell_type": "code",
      "metadata": {
        "id": "3dnOlf9i_kzX",
        "colab": {
          "base_uri": "https://localhost:8080/"
        },
        "outputId": "3b9951d8-cc73-42b0-e393-7c0110e67b05"
      },
      "source": [
        "datetime = np.datetime64('2020-06-01 12:00:12.34', 'ns')\n",
        "datetime"
      ],
      "execution_count": null,
      "outputs": [
        {
          "output_type": "execute_result",
          "data": {
            "text/plain": [
              "numpy.datetime64('2020-06-01T12:00:12.340000000')"
            ]
          },
          "metadata": {
            "tags": []
          },
          "execution_count": 225
        }
      ]
    },
    {
      "cell_type": "markdown",
      "metadata": {
        "id": "5AREIamhGxAr"
      },
      "source": [
        "\n",
        "\n",
        "---\n",
        "\n"
      ]
    },
    {
      "cell_type": "markdown",
      "metadata": {
        "id": "d88tkTqbBE5V"
      },
      "source": [
        "## 배열 조회"
      ]
    },
    {
      "cell_type": "markdown",
      "metadata": {
        "id": "vRqwfbjtFnPn"
      },
      "source": [
        "### 배열 속성 정보"
      ]
    },
    {
      "cell_type": "code",
      "metadata": {
        "id": "R5Rlcll7GXrM"
      },
      "source": [
        "def array_info(array):\n",
        "  print(array)\n",
        "  print(\"ndim:\", array.ndim)\n",
        "  print(\"shape:\", array.shape)\n",
        "  print(\"dtype:\", array.dtype)\n",
        "  print(\"size\", array.size)\n",
        "  print(\"itemsize:\", array.itemsize)\n",
        "  print(\"nbytes:\", array.nbytes)\n",
        "  print(\"strides:\", array.strides)"
      ],
      "execution_count": null,
      "outputs": []
    },
    {
      "cell_type": "code",
      "metadata": {
        "id": "Na59LwA7KXZV",
        "colab": {
          "base_uri": "https://localhost:8080/"
        },
        "outputId": "5c598062-8da8-4ab0-acd0-fc0821d1b6fc"
      },
      "source": [
        "array_info(a1)"
      ],
      "execution_count": null,
      "outputs": [
        {
          "output_type": "stream",
          "text": [
            "[4 5 6 4 5]\n",
            "ndim: 1\n",
            "shape: (5,)\n",
            "dtype: int64\n",
            "size 5\n",
            "itemsize: 8\n",
            "nbytes: 40\n",
            "strides: (8,)\n"
          ],
          "name": "stdout"
        }
      ]
    },
    {
      "cell_type": "code",
      "metadata": {
        "id": "Urzr_LsdLah0",
        "colab": {
          "base_uri": "https://localhost:8080/"
        },
        "outputId": "6f86bd49-568e-4363-8340-9da0531d0835"
      },
      "source": [
        "array_info(a2)"
      ],
      "execution_count": null,
      "outputs": [
        {
          "output_type": "stream",
          "text": [
            "[[1 2 3]\n",
            " [4 5 6]\n",
            " [7 8 9]]\n",
            "ndim: 2\n",
            "shape: (3, 3)\n",
            "dtype: int64\n",
            "size 9\n",
            "itemsize: 8\n",
            "nbytes: 72\n",
            "strides: (24, 8)\n"
          ],
          "name": "stdout"
        }
      ]
    },
    {
      "cell_type": "code",
      "metadata": {
        "id": "jktqh1lsLf4V",
        "colab": {
          "base_uri": "https://localhost:8080/"
        },
        "outputId": "b03326a2-306d-4bfd-d10a-cf97f748bd14"
      },
      "source": [
        "array_info(a3)"
      ],
      "execution_count": null,
      "outputs": [
        {
          "output_type": "stream",
          "text": [
            "[[[1 2 3]\n",
            "  [4 5 6]\n",
            "  [7 8 9]]\n",
            "\n",
            " [[1 2 3]\n",
            "  [4 5 6]\n",
            "  [7 8 9]]\n",
            "\n",
            " [[1 2 3]\n",
            "  [4 5 6]\n",
            "  [7 8 9]]]\n",
            "ndim: 3\n",
            "shape: (3, 3, 3)\n",
            "dtype: int64\n",
            "size 27\n",
            "itemsize: 8\n",
            "nbytes: 216\n",
            "strides: (72, 24, 8)\n"
          ],
          "name": "stdout"
        }
      ]
    },
    {
      "cell_type": "markdown",
      "metadata": {
        "id": "LV1WfdBWFqDu"
      },
      "source": [
        "### 인덱싱(Indexing)"
      ]
    },
    {
      "cell_type": "code",
      "metadata": {
        "id": "Nyb7eDmGFr5m",
        "colab": {
          "base_uri": "https://localhost:8080/"
        },
        "outputId": "b346fcb6-d723-42cd-b5e6-8001e2e0edaf"
      },
      "source": [
        "print(a1)\n",
        "print(a1[0])\n",
        "print(a1[2])\n",
        "print(a1[-1])\n",
        "print(a1[-2])"
      ],
      "execution_count": null,
      "outputs": [
        {
          "output_type": "stream",
          "text": [
            "[4 5 6 4 5]\n",
            "4\n",
            "6\n",
            "5\n",
            "4\n"
          ],
          "name": "stdout"
        }
      ]
    },
    {
      "cell_type": "code",
      "metadata": {
        "id": "uHMNcQW3Kn-h",
        "colab": {
          "base_uri": "https://localhost:8080/"
        },
        "outputId": "69fe9212-20ae-4ef8-881a-16184a1ad164"
      },
      "source": [
        "print(a2)\n",
        "print(a2[0, 0])\n",
        "print(a2[0, 2])\n",
        "print(a2[1, 1])\n",
        "print(a2[2, -1])"
      ],
      "execution_count": null,
      "outputs": [
        {
          "output_type": "stream",
          "text": [
            "[[1 2 3]\n",
            " [4 5 6]\n",
            " [7 8 9]]\n",
            "1\n",
            "3\n",
            "5\n",
            "9\n"
          ],
          "name": "stdout"
        }
      ]
    },
    {
      "cell_type": "code",
      "metadata": {
        "id": "IX5yDMGiMxYZ",
        "colab": {
          "base_uri": "https://localhost:8080/"
        },
        "outputId": "ab405197-8c5b-4b5d-8e39-6ac1a9b05c3c"
      },
      "source": [
        "print(a3)\n",
        "print(a3[0,0,0])\n",
        "print(a3[1,1,1])\n",
        "print(a3[2,2,2])\n",
        "print(a3[2,-1,1])"
      ],
      "execution_count": null,
      "outputs": [
        {
          "output_type": "stream",
          "text": [
            "[[[1 2 3]\n",
            "  [4 5 6]\n",
            "  [7 8 9]]\n",
            "\n",
            " [[1 2 3]\n",
            "  [4 5 6]\n",
            "  [7 8 9]]\n",
            "\n",
            " [[1 2 3]\n",
            "  [4 5 6]\n",
            "  [7 8 9]]]\n",
            "1\n",
            "5\n",
            "9\n",
            "8\n"
          ],
          "name": "stdout"
        }
      ]
    },
    {
      "cell_type": "markdown",
      "metadata": {
        "id": "uSeXu2y_O4cu"
      },
      "source": [
        "### 슬라이싱(Slicing)"
      ]
    },
    {
      "cell_type": "markdown",
      "metadata": {
        "id": "1hikO_6ZPp5m"
      },
      "source": [
        "* 슬라이싱 구문: `a[start:stop:step]`\n",
        "* 기본값: start=0, stop=ndim, step=1"
      ]
    },
    {
      "cell_type": "code",
      "metadata": {
        "id": "PYZOOCoVO7BF",
        "colab": {
          "base_uri": "https://localhost:8080/"
        },
        "outputId": "56358a8c-0ff9-49fb-f10d-61a78223e75d"
      },
      "source": [
        "print(a1)\n",
        "print(a1[0:2])\n",
        "print(a1[0:])\n",
        "print(a1[:1])\n",
        "print(a1[::2])\n",
        "print(a1[::-1])"
      ],
      "execution_count": null,
      "outputs": [
        {
          "output_type": "stream",
          "text": [
            "[4 5 6 4 5]\n",
            "[4 5]\n",
            "[4 5 6 4 5]\n",
            "[4]\n",
            "[4 6 5]\n",
            "[5 4 6 5 4]\n"
          ],
          "name": "stdout"
        }
      ]
    },
    {
      "cell_type": "code",
      "metadata": {
        "colab": {
          "base_uri": "https://localhost:8080/"
        },
        "id": "N7FSaft-c6xG",
        "outputId": "81e0b8ca-5fae-4ba1-d532-61c0bfb8dec3"
      },
      "source": [
        "  print(a2)\n",
        "  print(a2[1])\n",
        "  print(a2[1, :])\n",
        "  print(a2[:2, :2])\n",
        "  print(a2[1:, ::-1])\n",
        "  print(a2[::-1, ::-1])"
      ],
      "execution_count": null,
      "outputs": [
        {
          "output_type": "stream",
          "text": [
            "[[1 2 3]\n",
            " [4 5 6]\n",
            " [7 8 9]]\n",
            "[4 5 6]\n",
            "[4 5 6]\n",
            "[[1 2]\n",
            " [4 5]]\n",
            "[[6 5 4]\n",
            " [9 8 7]]\n",
            "[[9 8 7]\n",
            " [6 5 4]\n",
            " [3 2 1]]\n"
          ],
          "name": "stdout"
        }
      ]
    },
    {
      "cell_type": "code",
      "metadata": {
        "id": "oULOFrBQWs1G"
      },
      "source": [
        ""
      ],
      "execution_count": null,
      "outputs": []
    },
    {
      "cell_type": "markdown",
      "metadata": {
        "id": "LD52bXAsBgbH"
      },
      "source": [
        "### 불리언 인덱싱(Boolean Indexing)\n",
        "\n",
        "* 배열 각 요소의 선택 여부를 불리언(True or False)로 지정\n",
        "* True 값인 인덱스의 값만 조회"
      ]
    },
    {
      "cell_type": "code",
      "metadata": {
        "id": "pOvNsH2oBgz-",
        "colab": {
          "base_uri": "https://localhost:8080/"
        },
        "outputId": "b2c4a8fc-f2dd-433a-a99a-6d8ed4f99df0"
      },
      "source": [
        "print(a1)\n",
        "bi = [False, True, True, False, True]\n",
        "print(a1[bi])"
      ],
      "execution_count": null,
      "outputs": [
        {
          "output_type": "stream",
          "text": [
            "[4 5 6 4 5]\n",
            "[5 6 5]\n"
          ],
          "name": "stdout"
        }
      ]
    },
    {
      "cell_type": "code",
      "metadata": {
        "id": "EFfquM2kWHAU",
        "colab": {
          "base_uri": "https://localhost:8080/"
        },
        "outputId": "25aa1562-dbd4-415c-d9d2-b78d293e4a19"
      },
      "source": [
        "print(a2)\n",
        "bi = np.random.randint(0, 2, (3,3), dtype=bool)\n",
        "print(bi)\n",
        "print(a2[bi])"
      ],
      "execution_count": null,
      "outputs": [
        {
          "output_type": "stream",
          "text": [
            "[[1 2 3]\n",
            " [4 5 6]\n",
            " [7 8 9]]\n",
            "[[False False False]\n",
            " [False False  True]\n",
            " [ True  True False]]\n",
            "[6 7 8]\n"
          ],
          "name": "stdout"
        }
      ]
    },
    {
      "cell_type": "markdown",
      "metadata": {
        "id": "R5hes-hdBujH"
      },
      "source": [
        "### 팬시 인덱싱(Fancy Indedxing)"
      ]
    },
    {
      "cell_type": "code",
      "metadata": {
        "id": "z-Luw5fzBx30",
        "colab": {
          "base_uri": "https://localhost:8080/"
        },
        "outputId": "e4bdd21b-18af-4a34-91a1-2efd46d3d061"
      },
      "source": [
        "print(a1)\n",
        "print([a1[0], a1[2]])\n",
        "ind = [0,2]\n",
        "print(a1[ind])\n",
        "ind = np.array([[0,1],\n",
        "                [2,0]])\n",
        "print(a1[ind])"
      ],
      "execution_count": null,
      "outputs": [
        {
          "output_type": "stream",
          "text": [
            "[4 5 6 4 5]\n",
            "[4, 6]\n",
            "[4 6]\n",
            "[[4 5]\n",
            " [6 4]]\n"
          ],
          "name": "stdout"
        }
      ]
    },
    {
      "cell_type": "code",
      "metadata": {
        "id": "p_Dd0oiJahgj",
        "colab": {
          "base_uri": "https://localhost:8080/"
        },
        "outputId": "c5f452db-7d99-4dde-ffc6-fcb45b531199"
      },
      "source": [
        "print(a2)\n",
        "row = np.array([0,2])\n",
        "col = np.array([1,2])\n",
        "print(a2[row, col])\n",
        "print(a2[row, :])\n",
        "print(a2[:, col])\n",
        "print(a2[row, 1])\n",
        "print(a2[2, col])\n",
        "print(a2[row, 1:])\n",
        "print(a2[1:, col])"
      ],
      "execution_count": null,
      "outputs": [
        {
          "output_type": "stream",
          "text": [
            "[[1 2 3]\n",
            " [4 5 6]\n",
            " [7 8 9]]\n",
            "[2 9]\n",
            "[[1 2 3]\n",
            " [7 8 9]]\n",
            "[[2 3]\n",
            " [5 6]\n",
            " [8 9]]\n",
            "[2 8]\n",
            "[8 9]\n",
            "[[2 3]\n",
            " [8 9]]\n",
            "[[5 6]\n",
            " [8 9]]\n"
          ],
          "name": "stdout"
        }
      ]
    },
    {
      "cell_type": "markdown",
      "metadata": {
        "id": "GkQM-nL8iPVg"
      },
      "source": [
        ""
      ]
    },
    {
      "cell_type": "markdown",
      "metadata": {
        "id": "F71_PQF1GvTs"
      },
      "source": [
        "\n",
        "\n",
        "---\n",
        "\n"
      ]
    },
    {
      "cell_type": "markdown",
      "metadata": {
        "id": "zDI5yQ58O-IX"
      },
      "source": [
        "## 배열 값 삽입/수정/삭제/복사"
      ]
    },
    {
      "cell_type": "markdown",
      "metadata": {
        "id": "zajd1qpVOQYy"
      },
      "source": [
        "### 배열 값 삽입\n",
        "\n",
        "* `insert()`: 배열의 특정 위치에 값 삽입\n",
        "* axis를 지정하지 않으면 1차원 배열로 변환\n",
        "* 추가할 방향을 axis로 지정\n",
        "* 원본 배열 변경없이 새로운 배열 반환"
      ]
    },
    {
      "cell_type": "code",
      "metadata": {
        "id": "sedRT54rP395",
        "colab": {
          "base_uri": "https://localhost:8080/"
        },
        "outputId": "ce645744-aeb7-4cac-eb17-c26b99a7371d"
      },
      "source": [
        "print(a1)\n",
        "b1 = np.insert(a1, 0, 10)\n",
        "print(b1)\n",
        "print(a1)\n",
        "c1 = np.insert(a1, 2, 10)\n",
        "print(c1)"
      ],
      "execution_count": null,
      "outputs": [
        {
          "output_type": "stream",
          "text": [
            "[4 5 6 4 5]\n",
            "[10  4  5  6  4  5]\n",
            "[4 5 6 4 5]\n",
            "[ 4  5 10  6  4  5]\n"
          ],
          "name": "stdout"
        }
      ]
    },
    {
      "cell_type": "code",
      "metadata": {
        "id": "zNmu1E4iQ6h-",
        "colab": {
          "base_uri": "https://localhost:8080/"
        },
        "outputId": "9f4c9aa0-dab5-4f57-b207-1ac4eb19728d"
      },
      "source": [
        "print(a2)\n",
        "b2 = np.insert(a2, 1, 10, axis=0)\n",
        "print(b2)\n",
        "c2 = np.insert(a2, 1, 10, axis=1)\n",
        "print(c2)\n"
      ],
      "execution_count": null,
      "outputs": [
        {
          "output_type": "stream",
          "text": [
            "[[1 2 3]\n",
            " [4 5 6]\n",
            " [7 8 9]]\n",
            "[[ 1  2  3]\n",
            " [10 10 10]\n",
            " [ 4  5  6]\n",
            " [ 7  8  9]]\n",
            "[[ 1 10  2  3]\n",
            " [ 4 10  5  6]\n",
            " [ 7 10  8  9]]\n"
          ],
          "name": "stdout"
        }
      ]
    },
    {
      "cell_type": "markdown",
      "metadata": {
        "id": "OlEzG4ffNjyL"
      },
      "source": [
        "### 배열 값 수정\n",
        "\n",
        "* 배열의 인덱싱으로 접근하여 값 수정"
      ]
    },
    {
      "cell_type": "code",
      "metadata": {
        "id": "ec43i1KWNjeN",
        "colab": {
          "base_uri": "https://localhost:8080/"
        },
        "outputId": "e745797b-d151-4a18-de55-90fa18e733c0"
      },
      "source": [
        "print(a1)\n",
        "a1[0] = 1\n",
        "a1[1] = 2\n",
        "a1[2] = 3\n",
        "print(a1)\n",
        "a1[:1] = 9\n",
        "print(a1)\n",
        "i = np.array([1,3,4])\n",
        "a1[i] = 0\n",
        "print(a1)\n",
        "a1[i] += 4\n",
        "print(a1)"
      ],
      "execution_count": null,
      "outputs": [
        {
          "output_type": "stream",
          "text": [
            "[4 5 6 4 5]\n",
            "[1 2 3 4 5]\n",
            "[9 2 3 4 5]\n",
            "[9 0 3 0 0]\n",
            "[9 4 3 4 4]\n"
          ],
          "name": "stdout"
        }
      ]
    },
    {
      "cell_type": "code",
      "metadata": {
        "id": "IApNNx3NOMQh",
        "colab": {
          "base_uri": "https://localhost:8080/"
        },
        "outputId": "9888cb74-dbe6-4225-9c66-e430c173ff64"
      },
      "source": [
        "print(a2)\n",
        "a2[0, 0] = 1\n",
        "a2[1, 1] = 2\n",
        "a2[2, 2] = 3\n",
        "a2[0] = 1\n",
        "print(a2)\n",
        "a2[1:, 2] = 9\n",
        "print(a2)\n",
        "row = np.array([0,1])\n",
        "col = np.array([1,2])\n",
        "a2[row, col] = 0\n",
        "print(a2)"
      ],
      "execution_count": null,
      "outputs": [
        {
          "output_type": "stream",
          "text": [
            "[[1 2 3]\n",
            " [4 5 6]\n",
            " [7 8 9]]\n",
            "[[1 1 1]\n",
            " [4 2 6]\n",
            " [7 8 3]]\n",
            "[[1 1 1]\n",
            " [4 2 9]\n",
            " [7 8 9]]\n",
            "[[1 0 1]\n",
            " [4 2 0]\n",
            " [7 8 9]]\n"
          ],
          "name": "stdout"
        }
      ]
    },
    {
      "cell_type": "markdown",
      "metadata": {
        "id": "emV7DgrITPcn"
      },
      "source": [
        "### 배열 값 삭제\n",
        "\n",
        "* `delete()`: 배열의 특정 위치에 값 삭제\n",
        "* axis를 지정하지 않으면 1차원 배열로 변환\n",
        "* 삭제할 방향을 axis로 지정\n",
        "* 원본 배열 변경없이 새로운 배열 반환"
      ]
    },
    {
      "cell_type": "code",
      "metadata": {
        "id": "I3k_Yx8lTRJ2",
        "colab": {
          "base_uri": "https://localhost:8080/"
        },
        "outputId": "03f967b7-14a1-4225-ac5c-0e7be57b971e"
      },
      "source": [
        "print(a1)\n",
        "b1 = np.delete(a1, 1)\n",
        "print(b1)\n",
        "print(a1)"
      ],
      "execution_count": null,
      "outputs": [
        {
          "output_type": "stream",
          "text": [
            "[9 4 3 4 4]\n",
            "[9 3 4 4]\n",
            "[9 4 3 4 4]\n"
          ],
          "name": "stdout"
        }
      ]
    },
    {
      "cell_type": "code",
      "metadata": {
        "id": "tRTwMIfJTq_y",
        "colab": {
          "base_uri": "https://localhost:8080/"
        },
        "outputId": "97dca66d-4374-49f9-8ca9-5182a5c35651"
      },
      "source": [
        "print(a2)\n",
        "b2 = np.delete(a2, 1, axis=0)\n",
        "print(b2)\n",
        "c2 = np.delete(a2, 1, axis=1)\n",
        "print(c2)"
      ],
      "execution_count": null,
      "outputs": [
        {
          "output_type": "stream",
          "text": [
            "[[1 0 1]\n",
            " [4 2 0]\n",
            " [7 8 9]]\n",
            "[[1 0 1]\n",
            " [7 8 9]]\n",
            "[[1 1]\n",
            " [4 0]\n",
            " [7 9]]\n"
          ],
          "name": "stdout"
        }
      ]
    },
    {
      "cell_type": "markdown",
      "metadata": {
        "id": "UydkYxV8Z6Fx"
      },
      "source": [
        "### 배열 복사\n",
        "\n",
        "* 리스트 자료형과 달리 배열의 슬라이스는 복사본이 아님"
      ]
    },
    {
      "cell_type": "code",
      "metadata": {
        "id": "n2_0L8KWZ7wH",
        "colab": {
          "base_uri": "https://localhost:8080/"
        },
        "outputId": "5ac753ab-6626-4645-9fda-87786ed8a8e8"
      },
      "source": [
        "print(a2)\n",
        "print(a2[:2, :2])\n",
        "a2_sub =a2[:2, :2]\n",
        "print(a2_sub)\n",
        "a2_sub[:, 1] = 0\n",
        "print(a2_sub)\n",
        "print(a2)"
      ],
      "execution_count": null,
      "outputs": [
        {
          "output_type": "stream",
          "text": [
            "[[1 0 1]\n",
            " [4 2 0]\n",
            " [7 8 9]]\n",
            "[[1 0]\n",
            " [4 2]]\n",
            "[[1 0]\n",
            " [4 2]]\n",
            "[[1 0]\n",
            " [4 0]]\n",
            "[[1 0 1]\n",
            " [4 0 0]\n",
            " [7 8 9]]\n"
          ],
          "name": "stdout"
        }
      ]
    },
    {
      "cell_type": "markdown",
      "metadata": {
        "id": "UrQqOC1Eat5l"
      },
      "source": [
        "\n",
        "* `copy()`: 배열이나 하위 배열 내의 값을 명시적으로 복사"
      ]
    },
    {
      "cell_type": "code",
      "metadata": {
        "id": "hLBZ7Qn6bAKO",
        "colab": {
          "base_uri": "https://localhost:8080/"
        },
        "outputId": "84e8f737-2b94-4950-d8a9-304a9d112685"
      },
      "source": [
        "print(a2)\n",
        "a2_sub_copy = a2[:2, :2].copy()\n",
        "print(a2_sub_copy)\n",
        "a2_sub_copy[:, 1] = 1\n",
        "print(a2_sub_copy)\n",
        "print(a2)"
      ],
      "execution_count": null,
      "outputs": [
        {
          "output_type": "stream",
          "text": [
            "[[1 0 1]\n",
            " [4 0 0]\n",
            " [7 8 9]]\n",
            "[[1 0]\n",
            " [4 0]]\n",
            "[[1 1]\n",
            " [4 1]]\n",
            "[[1 0 1]\n",
            " [4 0 0]\n",
            " [7 8 9]]\n"
          ],
          "name": "stdout"
        }
      ]
    },
    {
      "cell_type": "markdown",
      "metadata": {
        "id": "4HTc9FXOGtA7"
      },
      "source": [
        "\n",
        "\n",
        "---\n",
        "\n"
      ]
    },
    {
      "cell_type": "markdown",
      "metadata": {
        "id": "XVZY082__yV6"
      },
      "source": [
        "## 배열 변환"
      ]
    },
    {
      "cell_type": "markdown",
      "metadata": {
        "id": "Ec09aPeBO58M"
      },
      "source": [
        "### 배열 전치 및 축 변경"
      ]
    },
    {
      "cell_type": "code",
      "metadata": {
        "id": "anYByBpoWZmj",
        "colab": {
          "base_uri": "https://localhost:8080/"
        },
        "outputId": "d6b4f277-c13a-4b6b-87b5-2425d87df1bb"
      },
      "source": [
        "print(a2)\n",
        "print(a2.T)"
      ],
      "execution_count": null,
      "outputs": [
        {
          "output_type": "stream",
          "text": [
            "[[1 0 1]\n",
            " [4 0 0]\n",
            " [7 8 9]]\n",
            "[[1 4 7]\n",
            " [0 0 8]\n",
            " [1 0 9]]\n"
          ],
          "name": "stdout"
        }
      ]
    },
    {
      "cell_type": "code",
      "metadata": {
        "id": "wg4XC6kiRnZo",
        "colab": {
          "base_uri": "https://localhost:8080/"
        },
        "outputId": "26d094d9-bfc2-41bb-ed3c-897e8804725f"
      },
      "source": [
        "print(a3)\n",
        "print(a3.T)"
      ],
      "execution_count": null,
      "outputs": [
        {
          "output_type": "stream",
          "text": [
            "[[[1 2 3]\n",
            "  [4 5 6]\n",
            "  [7 8 9]]\n",
            "\n",
            " [[1 2 3]\n",
            "  [4 5 6]\n",
            "  [7 8 9]]\n",
            "\n",
            " [[1 2 3]\n",
            "  [4 5 6]\n",
            "  [7 8 9]]]\n",
            "[[[1 1 1]\n",
            "  [4 4 4]\n",
            "  [7 7 7]]\n",
            "\n",
            " [[2 2 2]\n",
            "  [5 5 5]\n",
            "  [8 8 8]]\n",
            "\n",
            " [[3 3 3]\n",
            "  [6 6 6]\n",
            "  [9 9 9]]]\n"
          ],
          "name": "stdout"
        }
      ]
    },
    {
      "cell_type": "code",
      "metadata": {
        "id": "6lPwXL8rRTfI",
        "colab": {
          "base_uri": "https://localhost:8080/"
        },
        "outputId": "8c58ad41-61e4-47bc-ed59-b0f95f815281"
      },
      "source": [
        "print(a2)\n",
        "print(a2.swapaxes(1,0))"
      ],
      "execution_count": null,
      "outputs": [
        {
          "output_type": "stream",
          "text": [
            "[[1 0 1]\n",
            " [4 0 0]\n",
            " [7 8 9]]\n",
            "[[1 4 7]\n",
            " [0 0 8]\n",
            " [1 0 9]]\n"
          ],
          "name": "stdout"
        }
      ]
    },
    {
      "cell_type": "code",
      "metadata": {
        "id": "oLbEHtijRewH",
        "colab": {
          "base_uri": "https://localhost:8080/"
        },
        "outputId": "5a66d4ba-2702-46bd-cc83-1b3e930a758a"
      },
      "source": [
        "print(a3)\n",
        "print(a3.swapaxes(0,1))\n",
        "print(a3.swapaxes(1,2))"
      ],
      "execution_count": null,
      "outputs": [
        {
          "output_type": "stream",
          "text": [
            "[[[1 2 3]\n",
            "  [4 5 6]\n",
            "  [7 8 9]]\n",
            "\n",
            " [[1 2 3]\n",
            "  [4 5 6]\n",
            "  [7 8 9]]\n",
            "\n",
            " [[1 2 3]\n",
            "  [4 5 6]\n",
            "  [7 8 9]]]\n",
            "[[[1 2 3]\n",
            "  [1 2 3]\n",
            "  [1 2 3]]\n",
            "\n",
            " [[4 5 6]\n",
            "  [4 5 6]\n",
            "  [4 5 6]]\n",
            "\n",
            " [[7 8 9]\n",
            "  [7 8 9]\n",
            "  [7 8 9]]]\n",
            "[[[1 4 7]\n",
            "  [2 5 8]\n",
            "  [3 6 9]]\n",
            "\n",
            " [[1 4 7]\n",
            "  [2 5 8]\n",
            "  [3 6 9]]\n",
            "\n",
            " [[1 4 7]\n",
            "  [2 5 8]\n",
            "  [3 6 9]]]\n"
          ],
          "name": "stdout"
        }
      ]
    },
    {
      "cell_type": "markdown",
      "metadata": {
        "id": "M7xN8WdOdb_S"
      },
      "source": [
        "### 배열 재구조화\n"
      ]
    },
    {
      "cell_type": "markdown",
      "metadata": {
        "id": "JwZJMpXGfY0V"
      },
      "source": [
        "* `reshape()`: 배열의 형상을 변경"
      ]
    },
    {
      "cell_type": "code",
      "metadata": {
        "id": "SlGQ17VQdd8i",
        "colab": {
          "base_uri": "https://localhost:8080/"
        },
        "outputId": "71f69ad6-eb63-417d-f588-a8801fe086d4"
      },
      "source": [
        "n1 = np.arange(1,10)\n",
        "print(n1)\n",
        "print(n1.reshape(3,3))"
      ],
      "execution_count": null,
      "outputs": [
        {
          "output_type": "stream",
          "text": [
            "[1 2 3 4 5 6 7 8 9]\n",
            "[[1 2 3]\n",
            " [4 5 6]\n",
            " [7 8 9]]\n"
          ],
          "name": "stdout"
        }
      ]
    },
    {
      "cell_type": "markdown",
      "metadata": {
        "id": "y_U1W-fQfuQY"
      },
      "source": [
        "* `newaxis()`: 새로운 축 추가"
      ]
    },
    {
      "cell_type": "code",
      "metadata": {
        "id": "COif_weCfkGo",
        "colab": {
          "base_uri": "https://localhost:8080/"
        },
        "outputId": "a03b2c2b-e6fd-4724-ceba-1e987bb61eb6"
      },
      "source": [
        "print(n1)\n",
        "print(n1[np.newaxis, :5])\n",
        "print(n1[:5, np.newaxis])"
      ],
      "execution_count": null,
      "outputs": [
        {
          "output_type": "stream",
          "text": [
            "[1 2 3 4 5 6 7 8 9]\n",
            "[[1 2 3 4 5]]\n",
            "[[1]\n",
            " [2]\n",
            " [3]\n",
            " [4]\n",
            " [5]]\n"
          ],
          "name": "stdout"
        }
      ]
    },
    {
      "cell_type": "markdown",
      "metadata": {
        "id": "FR82RSDggbcJ"
      },
      "source": [
        "### 배열 크기 변경"
      ]
    },
    {
      "cell_type": "markdown",
      "metadata": {
        "id": "D1LuDMVFl4tc"
      },
      "source": [
        "* 배열 모양만 변경"
      ]
    },
    {
      "cell_type": "code",
      "metadata": {
        "id": "7B6pHlfxgdSJ",
        "colab": {
          "base_uri": "https://localhost:8080/"
        },
        "outputId": "f9dac0ac-8f48-4350-dc08-5f1c17624e46"
      },
      "source": [
        "n2 = np.random.randint(0,10, (2,5))\n",
        "print(n2)\n",
        "n2.resize((5,2))\n",
        "print(n2)"
      ],
      "execution_count": null,
      "outputs": [
        {
          "output_type": "stream",
          "text": [
            "[[4 5 9 3 1]\n",
            " [8 7 7 8 8]]\n",
            "[[4 5]\n",
            " [9 3]\n",
            " [1 8]\n",
            " [7 7]\n",
            " [8 8]]\n"
          ],
          "name": "stdout"
        }
      ]
    },
    {
      "cell_type": "markdown",
      "metadata": {
        "id": "s0adm-h9l6sv"
      },
      "source": [
        "* 배열 크기 증가\n",
        "* 남은 공간은 0으로 채워짐"
      ]
    },
    {
      "cell_type": "code",
      "metadata": {
        "id": "IrX0UcjrlWRV",
        "colab": {
          "base_uri": "https://localhost:8080/"
        },
        "outputId": "e0eb8ef8-99a9-4072-ce1c-0c9484572f34"
      },
      "source": [
        "n2.resize((5,5))\n",
        "print(n2)"
      ],
      "execution_count": null,
      "outputs": [
        {
          "output_type": "stream",
          "text": [
            "[[4 5 9 3 1]\n",
            " [8 7 7 8 8]\n",
            " [0 0 0 0 0]\n",
            " [0 0 0 0 0]\n",
            " [0 0 0 0 0]]\n"
          ],
          "name": "stdout"
        }
      ]
    },
    {
      "cell_type": "markdown",
      "metadata": {
        "id": "78hPDEzfl9JB"
      },
      "source": [
        "* 배열 크기 감소\n",
        "* 포함되지 않은 값은 삭제됨"
      ]
    },
    {
      "cell_type": "code",
      "metadata": {
        "id": "fJWrwhc6lmjW",
        "colab": {
          "base_uri": "https://localhost:8080/"
        },
        "outputId": "fc99c59b-6685-4c52-c67f-0bd992c1a59a"
      },
      "source": [
        "n2.resize((3,3))\n",
        "print(n2)"
      ],
      "execution_count": null,
      "outputs": [
        {
          "output_type": "stream",
          "text": [
            "[[4 5 9]\n",
            " [3 1 8]\n",
            " [7 7 8]]\n"
          ],
          "name": "stdout"
        }
      ]
    },
    {
      "cell_type": "markdown",
      "metadata": {
        "id": "Csjp573ts135"
      },
      "source": [
        ""
      ]
    },
    {
      "cell_type": "markdown",
      "metadata": {
        "id": "r9z2gD_pHyx9"
      },
      "source": [
        "### 배열 추가\n",
        "\n",
        "* `append()`: 배열의 끝에 값 추가"
      ]
    },
    {
      "cell_type": "code",
      "metadata": {
        "id": "fH4lpQKNH5s1",
        "colab": {
          "base_uri": "https://localhost:8080/"
        },
        "outputId": "40617fa3-72ff-45a7-9f30-054e4dc5aca7"
      },
      "source": [
        "a2 = np.arange(1,10).reshape(3,3)\n",
        "print(a2)\n",
        "b2 = np.arange(10,19).reshape(3,3)\n",
        "print(b2)"
      ],
      "execution_count": null,
      "outputs": [
        {
          "output_type": "stream",
          "text": [
            "[[1 2 3]\n",
            " [4 5 6]\n",
            " [7 8 9]]\n",
            "[[10 11 12]\n",
            " [13 14 15]\n",
            " [16 17 18]]\n"
          ],
          "name": "stdout"
        }
      ]
    },
    {
      "cell_type": "markdown",
      "metadata": {
        "id": "n8SMl5VVIquk"
      },
      "source": [
        "* axis 지정이 없으면 1차원 배열 형태로 변형되어 결합"
      ]
    },
    {
      "cell_type": "code",
      "metadata": {
        "id": "LRltk3yFIVsV",
        "colab": {
          "base_uri": "https://localhost:8080/"
        },
        "outputId": "dfca8b6a-5aca-4a94-c05c-3501159eb222"
      },
      "source": [
        "c2 = np.append(a2, b2)\n",
        "print(c2)"
      ],
      "execution_count": null,
      "outputs": [
        {
          "output_type": "stream",
          "text": [
            "[ 1  2  3  4  5  6  7  8  9 10 11 12 13 14 15 16 17 18]\n"
          ],
          "name": "stdout"
        }
      ]
    },
    {
      "cell_type": "markdown",
      "metadata": {
        "id": "sVW2UFVZJfpR"
      },
      "source": [
        "* axis를 0으로 지정\n",
        "* shape[0]을 제외한 나머지 shape은 같아야 함"
      ]
    },
    {
      "cell_type": "code",
      "metadata": {
        "id": "nwJ4xLOeIbMg",
        "colab": {
          "base_uri": "https://localhost:8080/"
        },
        "outputId": "0c736ff8-63db-435e-c12a-bba969b22797"
      },
      "source": [
        "c2 = np.append(a2, b2, axis=0)\n",
        "print(c2)"
      ],
      "execution_count": null,
      "outputs": [
        {
          "output_type": "stream",
          "text": [
            "[[ 1  2  3]\n",
            " [ 4  5  6]\n",
            " [ 7  8  9]\n",
            " [10 11 12]\n",
            " [13 14 15]\n",
            " [16 17 18]]\n"
          ],
          "name": "stdout"
        }
      ]
    },
    {
      "cell_type": "markdown",
      "metadata": {
        "id": "4YXxzygaJmj-"
      },
      "source": [
        "* axis를 1로 지정\n",
        "* shape[1]을 제외한 나머지 shape은 같아야 함"
      ]
    },
    {
      "cell_type": "code",
      "metadata": {
        "id": "JYE4_5gAJmYe",
        "colab": {
          "base_uri": "https://localhost:8080/"
        },
        "outputId": "33a7461c-41f3-42fd-bb67-f044a52305d3"
      },
      "source": [
        "c2 = np.append(a2, b2, axis=1)\n",
        "print(c2)"
      ],
      "execution_count": null,
      "outputs": [
        {
          "output_type": "stream",
          "text": [
            "[[ 1  2  3 10 11 12]\n",
            " [ 4  5  6 13 14 15]\n",
            " [ 7  8  9 16 17 18]]\n"
          ],
          "name": "stdout"
        }
      ]
    },
    {
      "cell_type": "markdown",
      "metadata": {
        "id": "9sTza3b2hoe4"
      },
      "source": [
        "### 배열 연결"
      ]
    },
    {
      "cell_type": "markdown",
      "metadata": {
        "id": "TRun2NPYj8Ct"
      },
      "source": [
        "* `concatenate()`: 튜플이나 배열의 리스트를 인수로 사용해 배열 연결"
      ]
    },
    {
      "cell_type": "code",
      "metadata": {
        "id": "lmEqdPifhrB_",
        "colab": {
          "base_uri": "https://localhost:8080/"
        },
        "outputId": "8898a67f-b1d2-4541-e0cf-556285580155"
      },
      "source": [
        "a1 = np.array([1,3,5])\n",
        "b1 = np.array([2,4,6])\n",
        "np.concatenate([a1, b1])\n"
      ],
      "execution_count": null,
      "outputs": [
        {
          "output_type": "execute_result",
          "data": {
            "text/plain": [
              "array([1, 3, 5, 2, 4, 6])"
            ]
          },
          "metadata": {
            "tags": []
          },
          "execution_count": 82
        }
      ]
    },
    {
      "cell_type": "code",
      "metadata": {
        "id": "IkoTNIt2k0tp",
        "colab": {
          "base_uri": "https://localhost:8080/"
        },
        "outputId": "351d665d-4061-4024-940e-b72875ff567c"
      },
      "source": [
        "c1 = np.array([7,8,9])\n",
        "np.concatenate([a1, b1, c1])"
      ],
      "execution_count": null,
      "outputs": [
        {
          "output_type": "execute_result",
          "data": {
            "text/plain": [
              "array([1, 3, 5, 2, 4, 6, 7, 8, 9])"
            ]
          },
          "metadata": {
            "tags": []
          },
          "execution_count": 83
        }
      ]
    },
    {
      "cell_type": "code",
      "metadata": {
        "id": "vX0SCYX3lEs2",
        "colab": {
          "base_uri": "https://localhost:8080/"
        },
        "outputId": "2f4dec58-a749-442f-ad9d-e9a3fde0afb5"
      },
      "source": [
        "a2 = np.array([[1,2,3],\n",
        "               [4,5,6]])\n",
        "np.concatenate([a2, a2])"
      ],
      "execution_count": null,
      "outputs": [
        {
          "output_type": "execute_result",
          "data": {
            "text/plain": [
              "array([[1, 2, 3],\n",
              "       [4, 5, 6],\n",
              "       [1, 2, 3],\n",
              "       [4, 5, 6]])"
            ]
          },
          "metadata": {
            "tags": []
          },
          "execution_count": 84
        }
      ]
    },
    {
      "cell_type": "code",
      "metadata": {
        "id": "Rv6xGva7lxHP",
        "colab": {
          "base_uri": "https://localhost:8080/"
        },
        "outputId": "6d4dd014-80cc-459b-bcd9-db2d99813db2"
      },
      "source": [
        "a2 = np.array([[1,2,3],\n",
        "               [4,5,6]])\n",
        "np.concatenate([a2, a2], axis=1)"
      ],
      "execution_count": null,
      "outputs": [
        {
          "output_type": "execute_result",
          "data": {
            "text/plain": [
              "array([[1, 2, 3, 1, 2, 3],\n",
              "       [4, 5, 6, 4, 5, 6]])"
            ]
          },
          "metadata": {
            "tags": []
          },
          "execution_count": 85
        }
      ]
    },
    {
      "cell_type": "markdown",
      "metadata": {
        "id": "MbiBbx4nl2KD"
      },
      "source": [
        "* `vstack()`: 수직 스택(vertical stack), 1차원으로 연결"
      ]
    },
    {
      "cell_type": "code",
      "metadata": {
        "id": "HkHJwdBMl_qi",
        "colab": {
          "base_uri": "https://localhost:8080/"
        },
        "outputId": "46574863-ff82-4c0d-c10d-9b0ca3318704"
      },
      "source": [
        "np.vstack([a2, a2])"
      ],
      "execution_count": null,
      "outputs": [
        {
          "output_type": "execute_result",
          "data": {
            "text/plain": [
              "array([[1, 2, 3],\n",
              "       [4, 5, 6],\n",
              "       [1, 2, 3],\n",
              "       [4, 5, 6]])"
            ]
          },
          "metadata": {
            "tags": []
          },
          "execution_count": 86
        }
      ]
    },
    {
      "cell_type": "markdown",
      "metadata": {
        "id": "-hTlAnWxmHA_"
      },
      "source": [
        "* `hstack()`: 수평 스택(horizontal stack), 2차원으로 연결"
      ]
    },
    {
      "cell_type": "code",
      "metadata": {
        "id": "-HsGlAytmNEz",
        "colab": {
          "base_uri": "https://localhost:8080/"
        },
        "outputId": "c632a9f0-3c7d-49bc-8005-8047b794ab9d"
      },
      "source": [
        "np.hstack([a2, a2])"
      ],
      "execution_count": null,
      "outputs": [
        {
          "output_type": "execute_result",
          "data": {
            "text/plain": [
              "array([[1, 2, 3, 1, 2, 3],\n",
              "       [4, 5, 6, 4, 5, 6]])"
            ]
          },
          "metadata": {
            "tags": []
          },
          "execution_count": 87
        }
      ]
    },
    {
      "cell_type": "markdown",
      "metadata": {
        "id": "CshM6LURmUhV"
      },
      "source": [
        "* `dstack()`: 깊이 스택(depth stack), 3차원으로 연결"
      ]
    },
    {
      "cell_type": "code",
      "metadata": {
        "colab": {
          "base_uri": "https://localhost:8080/"
        },
        "id": "N7GjxkF8uOYp",
        "outputId": "374cc6dd-fed1-4b92-e150-6f1e7de05e0c"
      },
      "source": [
        "np.dstack([a2, a2])"
      ],
      "execution_count": null,
      "outputs": [
        {
          "output_type": "execute_result",
          "data": {
            "text/plain": [
              "array([[[1, 1],\n",
              "        [0, 0],\n",
              "        [1, 1]],\n",
              "\n",
              "       [[4, 4],\n",
              "        [0, 0],\n",
              "        [0, 0]],\n",
              "\n",
              "       [[7, 7],\n",
              "        [8, 8],\n",
              "        [9, 9]]])"
            ]
          },
          "metadata": {
            "tags": []
          },
          "execution_count": 246
        }
      ]
    },
    {
      "cell_type": "code",
      "metadata": {
        "id": "TFBdRddpmU4m",
        "colab": {
          "base_uri": "https://localhost:8080/"
        },
        "outputId": "23d8c680-9cdf-40ff-a04d-8f7f984cad23"
      },
      "source": [
        "np.stack([a2, a2])"
      ],
      "execution_count": null,
      "outputs": [
        {
          "output_type": "execute_result",
          "data": {
            "text/plain": [
              "array([[[1, 0, 1],\n",
              "        [4, 0, 0],\n",
              "        [7, 8, 9]],\n",
              "\n",
              "       [[1, 0, 1],\n",
              "        [4, 0, 0],\n",
              "        [7, 8, 9]]])"
            ]
          },
          "metadata": {
            "tags": []
          },
          "execution_count": 247
        }
      ]
    },
    {
      "cell_type": "markdown",
      "metadata": {
        "id": "JUBtc4UnpaSz"
      },
      "source": [
        "* `stack()`: 새로운 차원으로 연결"
      ]
    },
    {
      "cell_type": "code",
      "metadata": {
        "id": "JzoujQ9_pHS5"
      },
      "source": [
        ""
      ],
      "execution_count": null,
      "outputs": []
    },
    {
      "cell_type": "markdown",
      "metadata": {
        "id": "eYz74NYKo8iH"
      },
      "source": [
        "### 배열 분할"
      ]
    },
    {
      "cell_type": "markdown",
      "metadata": {
        "id": "wjt2zku5pBmF"
      },
      "source": [
        "* `split()`: 배열 분할"
      ]
    },
    {
      "cell_type": "code",
      "metadata": {
        "id": "H_2e71heo-Eq",
        "colab": {
          "base_uri": "https://localhost:8080/"
        },
        "outputId": "0fdcb8d8-f9df-4579-949a-b0ec1abcf9dd"
      },
      "source": [
        "a1 = np.arange(0,10)\n",
        "print(a1)\n",
        "b1, c1 = np.split(a1, [5])\n",
        "print(b1, c1)\n",
        "b1, c1, d1, e1, f1 = np.split(a1, [2,4,6,8])\n",
        "print(b1, c1, d1, e1, f1)"
      ],
      "execution_count": null,
      "outputs": [
        {
          "output_type": "stream",
          "text": [
            "[0 1 2 3 4 5 6 7 8 9]\n",
            "[0 1 2 3 4] [5 6 7 8 9]\n",
            "[0 1] [2 3] [4 5] [6 7] [8 9]\n"
          ],
          "name": "stdout"
        }
      ]
    },
    {
      "cell_type": "markdown",
      "metadata": {
        "id": "IvvdCQcKsCLn"
      },
      "source": [
        "* `vsplit()`: 수직 분할, 1차원으로 분할"
      ]
    },
    {
      "cell_type": "code",
      "metadata": {
        "id": "GdMYlsiLsCoe",
        "colab": {
          "base_uri": "https://localhost:8080/"
        },
        "outputId": "8f76b6a9-8f3b-482b-cd0d-f3455e4b2a99"
      },
      "source": [
        "a2 = np.arange(1,10).reshape(3,3)\n",
        "print(a2)\n",
        "b2, c2 = np.vsplit(a2, [2])\n",
        "print(b2)\n",
        "print(c2) "
      ],
      "execution_count": null,
      "outputs": [
        {
          "output_type": "stream",
          "text": [
            "[[1 2 3]\n",
            " [4 5 6]\n",
            " [7 8 9]]\n",
            "[[1 2 3]\n",
            " [4 5 6]]\n",
            "[[7 8 9]]\n"
          ],
          "name": "stdout"
        }
      ]
    },
    {
      "cell_type": "markdown",
      "metadata": {
        "id": "1aC0a034rSXi"
      },
      "source": [
        "* `hsplit()`: 수평 분할, 2차원으로 분할"
      ]
    },
    {
      "cell_type": "code",
      "metadata": {
        "id": "ShMnE_bnrSBJ",
        "colab": {
          "base_uri": "https://localhost:8080/"
        },
        "outputId": "2e929592-7fa2-4890-af15-519d3b286c53"
      },
      "source": [
        "a2 = np.arange(1,10).reshape(3,3)\n",
        "print(a2)\n",
        "b2, c2 = np.hsplit(a2, [2])\n",
        "print(b2)\n",
        "print(c2) "
      ],
      "execution_count": null,
      "outputs": [
        {
          "output_type": "stream",
          "text": [
            "[[1 2 3]\n",
            " [4 5 6]\n",
            " [7 8 9]]\n",
            "[[1 2]\n",
            " [4 5]\n",
            " [7 8]]\n",
            "[[3]\n",
            " [6]\n",
            " [9]]\n"
          ],
          "name": "stdout"
        }
      ]
    },
    {
      "cell_type": "code",
      "metadata": {
        "id": "bhTtYZb9bYLh"
      },
      "source": [
        ""
      ],
      "execution_count": null,
      "outputs": []
    },
    {
      "cell_type": "markdown",
      "metadata": {
        "id": "Pz3BDD8qsQER"
      },
      "source": [
        "* `dsplit()`: 깊이 분할, 3차원으로 분할"
      ]
    },
    {
      "cell_type": "code",
      "metadata": {
        "id": "DqHFGd43sQYj",
        "colab": {
          "base_uri": "https://localhost:8080/"
        },
        "outputId": "c145c64c-1375-4eb3-95b1-3f72dce3fc99"
      },
      "source": [
        "a3 = np.arange(1,28).reshape(3,3, 3)\n",
        "print(a3)\n",
        "b3, c3 = np.dsplit(a3, [2])\n",
        "print(b3)\n",
        "print(c3) "
      ],
      "execution_count": null,
      "outputs": [
        {
          "output_type": "stream",
          "text": [
            "[[[ 1  2  3]\n",
            "  [ 4  5  6]\n",
            "  [ 7  8  9]]\n",
            "\n",
            " [[10 11 12]\n",
            "  [13 14 15]\n",
            "  [16 17 18]]\n",
            "\n",
            " [[19 20 21]\n",
            "  [22 23 24]\n",
            "  [25 26 27]]]\n",
            "[[[ 1  2]\n",
            "  [ 4  5]\n",
            "  [ 7  8]]\n",
            "\n",
            " [[10 11]\n",
            "  [13 14]\n",
            "  [16 17]]\n",
            "\n",
            " [[19 20]\n",
            "  [22 23]\n",
            "  [25 26]]]\n",
            "[[[ 3]\n",
            "  [ 6]\n",
            "  [ 9]]\n",
            "\n",
            " [[12]\n",
            "  [15]\n",
            "  [18]]\n",
            "\n",
            " [[21]\n",
            "  [24]\n",
            "  [27]]]\n"
          ],
          "name": "stdout"
        }
      ]
    },
    {
      "cell_type": "markdown",
      "metadata": {
        "id": "rK-zrDZuGoVd"
      },
      "source": [
        "\n",
        "\n",
        "---\n",
        "\n"
      ]
    },
    {
      "cell_type": "markdown",
      "metadata": {
        "id": "Vc-iSWewJ3C1"
      },
      "source": [
        "## 배열 연산\n",
        "\n",
        "* NumPy의 배열 연산은 벡터화(vectorized) 연산을 사용\n",
        "* 일반적으로 NumPy의 범용 함수(universal functions)를 통해 구현\n",
        "* 배열 요소에 대한 반복적인 계산을 효율적으로 수행"
      ]
    },
    {
      "cell_type": "markdown",
      "metadata": {
        "id": "Pg2er1A2w3cz"
      },
      "source": [
        "### 브로드캐스팅(Broadcasting)"
      ]
    },
    {
      "cell_type": "code",
      "metadata": {
        "id": "IGU-HRgr20nj",
        "colab": {
          "base_uri": "https://localhost:8080/"
        },
        "outputId": "bd797fab-0986-413d-9839-88475982f560"
      },
      "source": [
        "a1 = np.array([1,2,3])\n",
        "print(a1)\n",
        "print(a1 + 5)\n",
        "\n",
        "a2= np.arange(1,10).reshape(3,3)\n",
        "print(a2)\n",
        "print(a1 + a2)\n",
        "\n",
        "b2 = np.array([1,2,3]).reshape(3,1)\n",
        "print(b2)\n",
        "print(a1 + b2)"
      ],
      "execution_count": null,
      "outputs": [
        {
          "output_type": "stream",
          "text": [
            "[1 2 3]\n",
            "[6 7 8]\n",
            "[[1 2 3]\n",
            " [4 5 6]\n",
            " [7 8 9]]\n",
            "[[ 2  4  6]\n",
            " [ 5  7  9]\n",
            " [ 8 10 12]]\n",
            "[[1]\n",
            " [2]\n",
            " [3]]\n",
            "[[2 3 4]\n",
            " [3 4 5]\n",
            " [4 5 6]]\n"
          ],
          "name": "stdout"
        }
      ]
    },
    {
      "cell_type": "code",
      "metadata": {
        "id": "IAzsmIAn1HNt"
      },
      "source": [
        ""
      ],
      "execution_count": null,
      "outputs": []
    },
    {
      "cell_type": "markdown",
      "metadata": {
        "id": "NZzLHHLmwl_b"
      },
      "source": [
        "### 산술 연산(Arithmetic Operators)"
      ]
    },
    {
      "cell_type": "code",
      "metadata": {
        "id": "jHrIjHGEi05k",
        "colab": {
          "base_uri": "https://localhost:8080/"
        },
        "outputId": "cc535df7-883d-4601-ae91-8697b57e3738"
      },
      "source": [
        "a1 = np.arange(1, 10)\n",
        "print(a1)\n",
        "print(a1 + 1)\n",
        "print(np.add(a1, 10))\n",
        "print(a1 - 2)\n",
        "print(np.subtract(a1, 10))\n",
        "print(-a1)\n",
        "print(np.negative(a1))\n",
        "print(a1*2)\n",
        "print(np.multiply(a1, 2))\n",
        "print(a1/2)\n",
        "print(np.divide(a1, 2))\n",
        "print(a1//2)\n",
        "print(np.floor_divide(a1, 2))\n",
        "print(a1 **2)\n",
        "print(np.power(a1, 2))\n",
        "print(a1 % 2)\n",
        "print(np.mod(a1, 2))"
      ],
      "execution_count": null,
      "outputs": [
        {
          "output_type": "stream",
          "text": [
            "[1 2 3 4 5 6 7 8 9]\n",
            "[ 2  3  4  5  6  7  8  9 10]\n",
            "[11 12 13 14 15 16 17 18 19]\n",
            "[-1  0  1  2  3  4  5  6  7]\n",
            "[-9 -8 -7 -6 -5 -4 -3 -2 -1]\n",
            "[-1 -2 -3 -4 -5 -6 -7 -8 -9]\n",
            "[-1 -2 -3 -4 -5 -6 -7 -8 -9]\n",
            "[ 2  4  6  8 10 12 14 16 18]\n",
            "[ 2  4  6  8 10 12 14 16 18]\n",
            "[0.5 1.  1.5 2.  2.5 3.  3.5 4.  4.5]\n",
            "[0.5 1.  1.5 2.  2.5 3.  3.5 4.  4.5]\n",
            "[0 1 1 2 2 3 3 4 4]\n",
            "[0 1 1 2 2 3 3 4 4]\n",
            "[ 1  4  9 16 25 36 49 64 81]\n",
            "[ 1  4  9 16 25 36 49 64 81]\n",
            "[1 0 1 0 1 0 1 0 1]\n",
            "[1 0 1 0 1 0 1 0 1]\n"
          ],
          "name": "stdout"
        }
      ]
    },
    {
      "cell_type": "code",
      "metadata": {
        "id": "sMUYzXk3psgC",
        "colab": {
          "base_uri": "https://localhost:8080/"
        },
        "outputId": "4f37c8fc-54d2-4e4d-ab14-74809476e02e"
      },
      "source": [
        "a1 = np.arange(1, 10)\n",
        "print(a1)\n",
        "b1 = np.random.randint(1, 10, size=9)\n",
        "print(b1)\n",
        "print(a1 + b1)\n",
        "print(a1 - b1)\n",
        "print(a1 * b1)\n",
        "print(a1 / b1)\n",
        "print(a1 // b1)\n",
        "print(a1 ** b1)\n",
        "print(a1 % b1)"
      ],
      "execution_count": null,
      "outputs": [
        {
          "output_type": "stream",
          "text": [
            "[1 2 3 4 5 6 7 8 9]\n",
            "[7 1 4 6 8 7 9 2 3]\n",
            "[ 8  3  7 10 13 13 16 10 12]\n",
            "[-6  1 -1 -2 -3 -1 -2  6  6]\n",
            "[ 7  2 12 24 40 42 63 16 27]\n",
            "[0.14285714 2.         0.75       0.66666667 0.625      0.85714286\n",
            " 0.77777778 4.         3.        ]\n",
            "[0 2 0 0 0 0 0 4 3]\n",
            "[       1        2       81     4096   390625   279936 40353607       64\n",
            "      729]\n",
            "[1 0 3 4 5 6 7 0 0]\n"
          ],
          "name": "stdout"
        }
      ]
    },
    {
      "cell_type": "code",
      "metadata": {
        "id": "ZkyjPmk5onPK",
        "colab": {
          "base_uri": "https://localhost:8080/"
        },
        "outputId": "4b7b67ea-c3b1-4528-e68f-76ae58897b28"
      },
      "source": [
        "a2 = np.arange(1,10).reshape(3,3)\n",
        "print(a2)\n",
        "b2 = np.random.randint(1, 10, size=(3,3))\n",
        "print(b2)\n",
        "print(a2 +b2)\n",
        "print(a2 - b2)\n",
        "print(a2 * b2)\n",
        "print(a2 / b2)\n",
        "print(a2 // b2)\n",
        "print(a2 ** b2)\n",
        "print(a2 % b2)"
      ],
      "execution_count": null,
      "outputs": [
        {
          "output_type": "stream",
          "text": [
            "[[1 2 3]\n",
            " [4 5 6]\n",
            " [7 8 9]]\n",
            "[[1 4 7]\n",
            " [3 4 8]\n",
            " [6 3 7]]\n",
            "[[ 2  6 10]\n",
            " [ 7  9 14]\n",
            " [13 11 16]]\n",
            "[[ 0 -2 -4]\n",
            " [ 1  1 -2]\n",
            " [ 1  5  2]]\n",
            "[[ 1  8 21]\n",
            " [12 20 48]\n",
            " [42 24 63]]\n",
            "[[1.         0.5        0.42857143]\n",
            " [1.33333333 1.25       0.75      ]\n",
            " [1.16666667 2.66666667 1.28571429]]\n",
            "[[1 0 0]\n",
            " [1 1 0]\n",
            " [1 2 1]]\n",
            "[[      1      16    2187]\n",
            " [     64     625 1679616]\n",
            " [ 117649     512 4782969]]\n",
            "[[0 2 3]\n",
            " [1 1 6]\n",
            " [1 2 2]]\n"
          ],
          "name": "stdout"
        }
      ]
    },
    {
      "cell_type": "markdown",
      "metadata": {
        "id": "hxG_aECas3a9"
      },
      "source": [
        "#### 절대값 함수(Absolute Function)\n",
        "\n",
        "* `absolute()`, `abs()`: 내장된 절대값 함수"
      ]
    },
    {
      "cell_type": "code",
      "metadata": {
        "id": "YmX-0LvWs7qM",
        "colab": {
          "base_uri": "https://localhost:8080/"
        },
        "outputId": "16d92093-be7b-4a25-ed41-544000b3b065"
      },
      "source": [
        "a1 = np.random.randint(-10, 10, size=5)\n",
        "print(a1)\n",
        "print(np.absolute(a1))\n",
        "print(np.abs(a1))"
      ],
      "execution_count": null,
      "outputs": [
        {
          "output_type": "stream",
          "text": [
            "[ 9  7  1 -6  6]\n",
            "[9 7 1 6 6]\n",
            "[9 7 1 6 6]\n"
          ],
          "name": "stdout"
        }
      ]
    },
    {
      "cell_type": "markdown",
      "metadata": {
        "id": "U5uE3sVtzRvA"
      },
      "source": [
        "#### 제곱/제곱근 함수\n",
        "\n",
        "* `square`, `sqrt`: 제곱, 제곱근 함수"
      ]
    },
    {
      "cell_type": "code",
      "metadata": {
        "id": "ggnIxDGzzTfX",
        "colab": {
          "base_uri": "https://localhost:8080/"
        },
        "outputId": "c7176599-e7c6-4d97-d751-d148e271fd74"
      },
      "source": [
        "print(a1)\n",
        "print(np.square(a1))\n",
        "print(np.sqrt(a1))"
      ],
      "execution_count": null,
      "outputs": [
        {
          "output_type": "stream",
          "text": [
            "[ 9  7  1 -6  6]\n",
            "[81 49  1 36 36]\n",
            "[3.         2.64575131 1.                nan 2.44948974]\n"
          ],
          "name": "stdout"
        },
        {
          "output_type": "stream",
          "text": [
            "/usr/local/lib/python3.7/dist-packages/ipykernel_launcher.py:3: RuntimeWarning: invalid value encountered in sqrt\n",
            "  This is separate from the ipykernel package so we can avoid doing imports until\n"
          ],
          "name": "stderr"
        }
      ]
    },
    {
      "cell_type": "markdown",
      "metadata": {
        "id": "tWh1aQ50vRhB"
      },
      "source": [
        "#### 지수와 로그 함수 (Exponential and Log Function)"
      ]
    },
    {
      "cell_type": "code",
      "metadata": {
        "id": "Dygt3AyHvTZz",
        "colab": {
          "base_uri": "https://localhost:8080/"
        },
        "outputId": "aa0c2fe6-b96b-4fad-c9a1-d1d614252306"
      },
      "source": [
        "a1 = np.random.randint(1, 10, size=5)\n",
        "print(a1)\n",
        "print(np.exp(a1))\n",
        "print(np.exp2(a1))\n",
        "print(np.power(a1, 2))"
      ],
      "execution_count": null,
      "outputs": [
        {
          "output_type": "stream",
          "text": [
            "[8 5 3 9 6]\n",
            "[2980.95798704  148.4131591    20.08553692 8103.08392758  403.42879349]\n",
            "[256.  32.   8. 512.  64.]\n",
            "[64 25  9 81 36]\n"
          ],
          "name": "stdout"
        }
      ]
    },
    {
      "cell_type": "code",
      "metadata": {
        "id": "YB0BzwxDvnkT",
        "colab": {
          "base_uri": "https://localhost:8080/"
        },
        "outputId": "0396ee99-7284-49ef-8933-17fc16bbed03"
      },
      "source": [
        " print(a1)\n",
        " print(np.log(a1))\n",
        " print(np.log2(a1))\n",
        " print(np.log10(a1))"
      ],
      "execution_count": null,
      "outputs": [
        {
          "output_type": "stream",
          "text": [
            "[8 5 3 9 6]\n",
            "[2.07944154 1.60943791 1.09861229 2.19722458 1.79175947]\n",
            "[3.         2.32192809 1.5849625  3.169925   2.5849625 ]\n",
            "[0.90308999 0.69897    0.47712125 0.95424251 0.77815125]\n"
          ],
          "name": "stdout"
        }
      ]
    },
    {
      "cell_type": "markdown",
      "metadata": {
        "id": "wE_p9AxjtdJ9"
      },
      "source": [
        "#### 삼각 함수(Trigonometrical Function)\n"
      ]
    },
    {
      "cell_type": "code",
      "metadata": {
        "id": "6bOSPS81tuo5",
        "colab": {
          "base_uri": "https://localhost:8080/"
        },
        "outputId": "8e493f40-93a0-43e0-99ef-3619b1c6520e"
      },
      "source": [
        "t = np.linspace(0, np.pi, 3)\n",
        "print(t)\n",
        "print(np.sin(t))\n",
        "print(np.cos(t))\n",
        "print(np.tan(t))"
      ],
      "execution_count": null,
      "outputs": [
        {
          "output_type": "stream",
          "text": [
            "[0.         1.57079633 3.14159265]\n",
            "[0.0000000e+00 1.0000000e+00 1.2246468e-16]\n",
            "[ 1.000000e+00  6.123234e-17 -1.000000e+00]\n",
            "[ 0.00000000e+00  1.63312394e+16 -1.22464680e-16]\n"
          ],
          "name": "stdout"
        }
      ]
    },
    {
      "cell_type": "code",
      "metadata": {
        "id": "v7m-AQW9uJ9u",
        "colab": {
          "base_uri": "https://localhost:8080/"
        },
        "outputId": "ca3b7e3b-cdca-424c-b679-0d1dee38d24a"
      },
      "source": [
        "x = [-1, 0, 1]\n",
        "print(x)\n",
        "print(np.arcsin(x))\n",
        "print(np.arccos(x))\n",
        "print(np.arctan(x))"
      ],
      "execution_count": null,
      "outputs": [
        {
          "output_type": "stream",
          "text": [
            "[-1, 0, 1]\n",
            "[-1.57079633  0.          1.57079633]\n",
            "[3.14159265 1.57079633 0.        ]\n",
            "[-0.78539816  0.          0.78539816]\n"
          ],
          "name": "stdout"
        }
      ]
    },
    {
      "cell_type": "markdown",
      "metadata": {
        "id": "hKJtYUVWwxQy"
      },
      "source": [
        "### 집계 함수(Aggregate Functions)"
      ]
    },
    {
      "cell_type": "markdown",
      "metadata": {
        "id": "GdxMrX5l9m6W"
      },
      "source": [
        "#### sum(): 합 계산"
      ]
    },
    {
      "cell_type": "code",
      "metadata": {
        "id": "AJQ3GjLI0cZU",
        "colab": {
          "base_uri": "https://localhost:8080/"
        },
        "outputId": "7ab58a7c-367b-473a-af38-9e62fb9e3ed8"
      },
      "source": [
        "a2 = np.random.randint(1, 10, size=(3,3))\n",
        "print(a2)\n",
        "print(a2.sum(), np.sum(a2))\n",
        "print(a2.sum(axis=0), np.sum(a2, axis=0))\n",
        "print(a2.sum(axis=1), np.sum(a2, axis=1))"
      ],
      "execution_count": null,
      "outputs": [
        {
          "output_type": "stream",
          "text": [
            "[[7 2 6]\n",
            " [3 7 6]\n",
            " [5 8 2]]\n",
            "46 46\n",
            "[15 17 14] [15 17 14]\n",
            "[15 16 15] [15 16 15]\n"
          ],
          "name": "stdout"
        }
      ]
    },
    {
      "cell_type": "markdown",
      "metadata": {
        "id": "U4W4iIb9J4Zd"
      },
      "source": [
        "#### cumsum(): 누적합 계산"
      ]
    },
    {
      "cell_type": "code",
      "metadata": {
        "id": "SRZWZD3UJ4wo",
        "colab": {
          "base_uri": "https://localhost:8080/"
        },
        "outputId": "dd9e1919-019b-455c-ecfe-b9e5b08e4580"
      },
      "source": [
        "print(a2)\n",
        "print(np.cumsum(a2))\n",
        "print(np.cumsum(a2, axis=0))\n",
        "print(np.cumsum(a2, axis=1))"
      ],
      "execution_count": null,
      "outputs": [
        {
          "output_type": "stream",
          "text": [
            "[[7 2 6]\n",
            " [3 7 6]\n",
            " [5 8 2]]\n",
            "[ 7  9 15 18 25 31 36 44 46]\n",
            "[[ 7  2  6]\n",
            " [10  9 12]\n",
            " [15 17 14]]\n",
            "[[ 7  9 15]\n",
            " [ 3 10 16]\n",
            " [ 5 13 15]]\n"
          ],
          "name": "stdout"
        }
      ]
    },
    {
      "cell_type": "markdown",
      "metadata": {
        "id": "pVaJRWQ-LV0f"
      },
      "source": [
        "#### diff(): 차분 계산"
      ]
    },
    {
      "cell_type": "code",
      "metadata": {
        "id": "yKjnWtGVLWJj",
        "colab": {
          "base_uri": "https://localhost:8080/"
        },
        "outputId": "3405254f-178e-40f2-84e5-17d2c1b3da3e"
      },
      "source": [
        "print(a2)\n",
        "print(np.diff(a2))\n",
        "print(np.diff(a2, axis=0))\n",
        "print(np.diff(a2, axis=1))"
      ],
      "execution_count": null,
      "outputs": [
        {
          "output_type": "stream",
          "text": [
            "[[7 2 6]\n",
            " [3 7 6]\n",
            " [5 8 2]]\n",
            "[[-5  4]\n",
            " [ 4 -1]\n",
            " [ 3 -6]]\n",
            "[[-4  5  0]\n",
            " [ 2  1 -4]]\n",
            "[[-5  4]\n",
            " [ 4 -1]\n",
            " [ 3 -6]]\n"
          ],
          "name": "stdout"
        }
      ]
    },
    {
      "cell_type": "markdown",
      "metadata": {
        "id": "b6I38HfA9vGL"
      },
      "source": [
        "#### prod(): 곱 계산"
      ]
    },
    {
      "cell_type": "code",
      "metadata": {
        "id": "rGPMXGe89y0O",
        "colab": {
          "base_uri": "https://localhost:8080/"
        },
        "outputId": "6a0efafd-b452-4a71-d2be-3f75a61a84a3"
      },
      "source": [
        "print(a2)\n",
        "print(np.prod(a2))\n",
        "print(np.prod(a2, axis=0))\n",
        "print(np.prod(a2, axis=1))"
      ],
      "execution_count": null,
      "outputs": [
        {
          "output_type": "stream",
          "text": [
            "[[7 2 6]\n",
            " [3 7 6]\n",
            " [5 8 2]]\n",
            "846720\n",
            "[105 112  72]\n",
            "[ 84 126  80]\n"
          ],
          "name": "stdout"
        }
      ]
    },
    {
      "cell_type": "markdown",
      "metadata": {
        "id": "RwaoVUGcKkkE"
      },
      "source": [
        "#### cumprod(): 누적곱 계산"
      ]
    },
    {
      "cell_type": "code",
      "metadata": {
        "id": "jwYoX9inKk4D",
        "colab": {
          "base_uri": "https://localhost:8080/"
        },
        "outputId": "99d65243-fd31-4f48-db62-24bc595c6afd"
      },
      "source": [
        "print(a2)\n",
        "print(np.cumprod(a2))\n",
        "print(np.cumprod(a2, axis=0))\n",
        "print(np.cumprod(a2, axis=1))"
      ],
      "execution_count": null,
      "outputs": [
        {
          "output_type": "stream",
          "text": [
            "[[7 2 6]\n",
            " [3 7 6]\n",
            " [5 8 2]]\n",
            "[     7     14     84    252   1764  10584  52920 423360 846720]\n",
            "[[  7   2   6]\n",
            " [ 21  14  36]\n",
            " [105 112  72]]\n",
            "[[  7  14  84]\n",
            " [  3  21 126]\n",
            " [  5  40  80]]\n"
          ],
          "name": "stdout"
        }
      ]
    },
    {
      "cell_type": "markdown",
      "metadata": {
        "id": "_LMAbL9hMV7T"
      },
      "source": [
        "#### dot()/matmul(): 점곱/행렬곱 계산"
      ]
    },
    {
      "cell_type": "code",
      "metadata": {
        "id": "xC6FBzF0MWW1",
        "colab": {
          "base_uri": "https://localhost:8080/"
        },
        "outputId": "4b5fe85b-8b73-406c-d00f-c0445eb28794"
      },
      "source": [
        "print(a2)\n",
        "b2 = np.ones_like(a2)\n",
        "print(b2)\n",
        "print(np.dot(a2, b2))\n",
        "print(np.matmul(a2, b2))"
      ],
      "execution_count": null,
      "outputs": [
        {
          "output_type": "stream",
          "text": [
            "[[7 2 6]\n",
            " [3 7 6]\n",
            " [5 8 2]]\n",
            "[[1 1 1]\n",
            " [1 1 1]\n",
            " [1 1 1]]\n",
            "[[15 15 15]\n",
            " [16 16 16]\n",
            " [15 15 15]]\n",
            "[[15 15 15]\n",
            " [16 16 16]\n",
            " [15 15 15]]\n"
          ],
          "name": "stdout"
        }
      ]
    },
    {
      "cell_type": "markdown",
      "metadata": {
        "id": "juVk3vnjPu31"
      },
      "source": [
        "#### tensordot(): 텐서곱 계산"
      ]
    },
    {
      "cell_type": "code",
      "metadata": {
        "id": "3LrcLOcjPvNI",
        "colab": {
          "base_uri": "https://localhost:8080/"
        },
        "outputId": "944f4753-b934-4b9a-b8a4-154fb00219f7"
      },
      "source": [
        "print(a2)\n",
        "print(b2)\n",
        "print(np.tensordot(a2,b2))\n",
        "print(np.tensordot(a2, b2, axes =0))\n",
        "print(np.tensordot(a2, b2, axes =1))"
      ],
      "execution_count": null,
      "outputs": [
        {
          "output_type": "stream",
          "text": [
            "[[7 2 6]\n",
            " [3 7 6]\n",
            " [5 8 2]]\n",
            "[[1 1 1]\n",
            " [1 1 1]\n",
            " [1 1 1]]\n",
            "46\n",
            "[[[[7 7 7]\n",
            "   [7 7 7]\n",
            "   [7 7 7]]\n",
            "\n",
            "  [[2 2 2]\n",
            "   [2 2 2]\n",
            "   [2 2 2]]\n",
            "\n",
            "  [[6 6 6]\n",
            "   [6 6 6]\n",
            "   [6 6 6]]]\n",
            "\n",
            "\n",
            " [[[3 3 3]\n",
            "   [3 3 3]\n",
            "   [3 3 3]]\n",
            "\n",
            "  [[7 7 7]\n",
            "   [7 7 7]\n",
            "   [7 7 7]]\n",
            "\n",
            "  [[6 6 6]\n",
            "   [6 6 6]\n",
            "   [6 6 6]]]\n",
            "\n",
            "\n",
            " [[[5 5 5]\n",
            "   [5 5 5]\n",
            "   [5 5 5]]\n",
            "\n",
            "  [[8 8 8]\n",
            "   [8 8 8]\n",
            "   [8 8 8]]\n",
            "\n",
            "  [[2 2 2]\n",
            "   [2 2 2]\n",
            "   [2 2 2]]]]\n",
            "[[15 15 15]\n",
            " [16 16 16]\n",
            " [15 15 15]]\n"
          ],
          "name": "stdout"
        }
      ]
    },
    {
      "cell_type": "markdown",
      "metadata": {
        "id": "UzmZhB5TNRMX"
      },
      "source": [
        "#### cross(): 벡터곱"
      ]
    },
    {
      "cell_type": "code",
      "metadata": {
        "id": "xvT2hy1FNRkU",
        "colab": {
          "base_uri": "https://localhost:8080/"
        },
        "outputId": "8ea0d4c9-d95e-426b-8ad1-654861538ae1"
      },
      "source": [
        "x = [1,2,3]\n",
        "y = [4,5,6]\n",
        "print(np.cross(x,y))"
      ],
      "execution_count": null,
      "outputs": [
        {
          "output_type": "stream",
          "text": [
            "[-3  6 -3]\n"
          ],
          "name": "stdout"
        }
      ]
    },
    {
      "cell_type": "markdown",
      "metadata": {
        "id": "SJVYmtrSO5YL"
      },
      "source": [
        "#### inner()/outer(): 내적/외적"
      ]
    },
    {
      "cell_type": "code",
      "metadata": {
        "id": "HJpomax7O5s6",
        "colab": {
          "base_uri": "https://localhost:8080/"
        },
        "outputId": "076df3ce-e4e4-4d8c-b4b3-dc948cda9714"
      },
      "source": [
        "print(a2)\n",
        "print(b2)\n",
        "print(np.inner(a2, b2))\n",
        "print(np.outer(a2, b2))"
      ],
      "execution_count": null,
      "outputs": [
        {
          "output_type": "stream",
          "text": [
            "[[7 2 6]\n",
            " [3 7 6]\n",
            " [5 8 2]]\n",
            "[[1 1 1]\n",
            " [1 1 1]\n",
            " [1 1 1]]\n",
            "[[15 15 15]\n",
            " [16 16 16]\n",
            " [15 15 15]]\n",
            "[[7 7 7 7 7 7 7 7 7]\n",
            " [2 2 2 2 2 2 2 2 2]\n",
            " [6 6 6 6 6 6 6 6 6]\n",
            " [3 3 3 3 3 3 3 3 3]\n",
            " [7 7 7 7 7 7 7 7 7]\n",
            " [6 6 6 6 6 6 6 6 6]\n",
            " [5 5 5 5 5 5 5 5 5]\n",
            " [8 8 8 8 8 8 8 8 8]\n",
            " [2 2 2 2 2 2 2 2 2]]\n"
          ],
          "name": "stdout"
        }
      ]
    },
    {
      "cell_type": "markdown",
      "metadata": {
        "id": "9CIotQgI_RQ-"
      },
      "source": [
        "#### mean(): 평균 계산"
      ]
    },
    {
      "cell_type": "code",
      "metadata": {
        "id": "g96wAEOT_bUk",
        "colab": {
          "base_uri": "https://localhost:8080/"
        },
        "outputId": "3c25af73-5112-4582-b534-2b5a0871e89f"
      },
      "source": [
        "print(a2)\n",
        "print(np.mean(a2))\n",
        "print(np.mean(a2, axis=0))\n",
        "print(np.mean(a2, axis=1))"
      ],
      "execution_count": null,
      "outputs": [
        {
          "output_type": "stream",
          "text": [
            "[[7 2 6]\n",
            " [3 7 6]\n",
            " [5 8 2]]\n",
            "5.111111111111111\n",
            "[5.         5.66666667 4.66666667]\n",
            "[5.         5.33333333 5.        ]\n"
          ],
          "name": "stdout"
        }
      ]
    },
    {
      "cell_type": "markdown",
      "metadata": {
        "id": "wAG_zijP_Z5o"
      },
      "source": [
        "#### std(): 표준 편차 계산"
      ]
    },
    {
      "cell_type": "code",
      "metadata": {
        "id": "hlpnuyug_TXA",
        "colab": {
          "base_uri": "https://localhost:8080/"
        },
        "outputId": "e3853053-08d5-4b79-bd57-56f722a3a170"
      },
      "source": [
        "print(a2)\n",
        "print(np.std(a2))\n",
        "print(np.std(a2, axis=0))\n",
        "print(np.std(a2, axis=1))"
      ],
      "execution_count": null,
      "outputs": [
        {
          "output_type": "stream",
          "text": [
            "[[7 2 6]\n",
            " [3 7 6]\n",
            " [5 8 2]]\n",
            "2.1314806770278754\n",
            "[1.63299316 2.62466929 1.88561808]\n",
            "[2.1602469  1.69967317 2.44948974]\n"
          ],
          "name": "stdout"
        }
      ]
    },
    {
      "cell_type": "markdown",
      "metadata": {
        "id": "5FFTCCDaAEhx"
      },
      "source": [
        "#### var(): 분산 계산"
      ]
    },
    {
      "cell_type": "code",
      "metadata": {
        "id": "CRMNkSdzAGZG",
        "colab": {
          "base_uri": "https://localhost:8080/"
        },
        "outputId": "daa9adf2-2b8a-4b54-fba6-8ab1224adf80"
      },
      "source": [
        "print(a2)\n",
        "print(np.var(a2))\n",
        "print(np.var(a2, axis=0))\n",
        "print(np.var(a2, axis=1))"
      ],
      "execution_count": null,
      "outputs": [
        {
          "output_type": "stream",
          "text": [
            "[[7 2 6]\n",
            " [3 7 6]\n",
            " [5 8 2]]\n",
            "4.54320987654321\n",
            "[2.66666667 6.88888889 3.55555556]\n",
            "[4.66666667 2.88888889 6.        ]\n"
          ],
          "name": "stdout"
        }
      ]
    },
    {
      "cell_type": "markdown",
      "metadata": {
        "id": "QFeh-4tmCCrU"
      },
      "source": [
        "#### min(): 최소값"
      ]
    },
    {
      "cell_type": "code",
      "metadata": {
        "id": "SMNCfYBQCEtf",
        "colab": {
          "base_uri": "https://localhost:8080/"
        },
        "outputId": "de189b4e-39c4-4e8a-9e32-25f9e778dec3"
      },
      "source": [
        "print(a2)\n",
        "print(np.min(a2))\n",
        "print(np.min(a2, axis=0))\n",
        "print(np.min(a2, axis=1))"
      ],
      "execution_count": null,
      "outputs": [
        {
          "output_type": "stream",
          "text": [
            "[[7 2 6]\n",
            " [3 7 6]\n",
            " [5 8 2]]\n",
            "2\n",
            "[3 2 2]\n",
            "[2 3 2]\n"
          ],
          "name": "stdout"
        }
      ]
    },
    {
      "cell_type": "markdown",
      "metadata": {
        "id": "A3n_JBnBJ2bo"
      },
      "source": [
        "#### max(): 최대값"
      ]
    },
    {
      "cell_type": "code",
      "metadata": {
        "id": "FmuOFKGAJ6Pf",
        "colab": {
          "base_uri": "https://localhost:8080/"
        },
        "outputId": "c2385d6a-6a06-4afd-fefb-ebf5a94f3c78"
      },
      "source": [
        "print(a2)\n",
        "print(np.max(a2))\n",
        "print(np.max(a2, axis=0))\n",
        "print(np.max(a2, axis=1))"
      ],
      "execution_count": null,
      "outputs": [
        {
          "output_type": "stream",
          "text": [
            "[[7 2 6]\n",
            " [3 7 6]\n",
            " [5 8 2]]\n",
            "8\n",
            "[7 8 6]\n",
            "[7 7 8]\n"
          ],
          "name": "stdout"
        }
      ]
    },
    {
      "cell_type": "markdown",
      "metadata": {
        "id": "PvGOKDP0J_5b"
      },
      "source": [
        "#### argmin(): 최소값 인덱스"
      ]
    },
    {
      "cell_type": "code",
      "metadata": {
        "id": "1ILP7L3yKCqA",
        "colab": {
          "base_uri": "https://localhost:8080/"
        },
        "outputId": "c61aa4d0-5a12-4fbe-a18b-89e1af42c986"
      },
      "source": [
        "print(a2)\n",
        "print(np.argmin(a2))\n",
        "print(np.argmin(a2, axis=0))\n",
        "print(np.argmin(a2, axis=1))"
      ],
      "execution_count": null,
      "outputs": [
        {
          "output_type": "stream",
          "text": [
            "[[7 2 6]\n",
            " [3 7 6]\n",
            " [5 8 2]]\n",
            "1\n",
            "[1 0 2]\n",
            "[1 0 2]\n"
          ],
          "name": "stdout"
        }
      ]
    },
    {
      "cell_type": "markdown",
      "metadata": {
        "id": "23IcSctIKbUa"
      },
      "source": [
        "#### argmax(): 최대값 인덱스"
      ]
    },
    {
      "cell_type": "code",
      "metadata": {
        "id": "2m21cfCFKd-Q",
        "colab": {
          "base_uri": "https://localhost:8080/"
        },
        "outputId": "1fc18920-2b43-459c-98ba-1d6a097ccfe9"
      },
      "source": [
        "print(a2)\n",
        "print(np.argmax(a2))\n",
        "print(np.argmax(a2, axis=0))\n",
        "print(np.argmax(a2, axis=1))"
      ],
      "execution_count": null,
      "outputs": [
        {
          "output_type": "stream",
          "text": [
            "[[7 2 6]\n",
            " [3 7 6]\n",
            " [5 8 2]]\n",
            "7\n",
            "[0 2 0]\n",
            "[0 1 1]\n"
          ],
          "name": "stdout"
        }
      ]
    },
    {
      "cell_type": "markdown",
      "metadata": {
        "id": "3TjeNFQLKuZb"
      },
      "source": [
        "#### median(): 중앙값"
      ]
    },
    {
      "cell_type": "code",
      "metadata": {
        "id": "kSLN17bpKwv6",
        "colab": {
          "base_uri": "https://localhost:8080/"
        },
        "outputId": "7ff39ff3-8e7f-4ef0-dab2-582d71060143"
      },
      "source": [
        "print(a2)\n",
        "print(np.median(a2))\n",
        "print(np.median(a2, axis=0))\n",
        "print(np.median(a2, axis=1))"
      ],
      "execution_count": null,
      "outputs": [
        {
          "output_type": "stream",
          "text": [
            "[[7 2 6]\n",
            " [3 7 6]\n",
            " [5 8 2]]\n",
            "6.0\n",
            "[5. 7. 6.]\n",
            "[6. 6. 5.]\n"
          ],
          "name": "stdout"
        }
      ]
    },
    {
      "cell_type": "markdown",
      "metadata": {
        "id": "df-Id-nhLs3L"
      },
      "source": [
        "#### percentile(): 백분위 수\n",
        "\n"
      ]
    },
    {
      "cell_type": "code",
      "metadata": {
        "id": "N-TCx9hnLvhK",
        "colab": {
          "base_uri": "https://localhost:8080/"
        },
        "outputId": "79c19019-6677-4595-c3ee-54ad569385e4"
      },
      "source": [
        "a1 = np.array([0,1,2,3])\n",
        "print(a1)\n",
        "print(np.percentile(a1, [0, 20, 40, 60, 80, 100], interpolation='linear'))\n",
        "print(np.percentile(a1, [0, 20, 40, 60, 80, 100], interpolation='higher'))\n",
        "print(np.percentile(a1, [0, 20, 40, 60, 80, 100], interpolation='lower'))\n",
        "print(np.percentile(a1, [0, 20, 40, 60, 80, 100], interpolation='nearest'))\n",
        "print(np.percentile(a1, [0, 20, 40, 60, 80, 100], interpolation='midpoint'))\n"
      ],
      "execution_count": null,
      "outputs": [
        {
          "output_type": "stream",
          "text": [
            "[0 1 2 3]\n",
            "[0.  0.6 1.2 1.8 2.4 3. ]\n",
            "[0 1 2 2 3 3]\n",
            "[0 0 1 1 2 3]\n",
            "[0 1 1 2 2 3]\n",
            "[0.  0.5 1.5 1.5 2.5 3. ]\n"
          ],
          "name": "stdout"
        }
      ]
    },
    {
      "cell_type": "markdown",
      "metadata": {
        "id": "x0NnNsvvNDIs"
      },
      "source": [
        "#### any()"
      ]
    },
    {
      "cell_type": "code",
      "metadata": {
        "id": "I1XDqsFxOMvA",
        "colab": {
          "base_uri": "https://localhost:8080/"
        },
        "outputId": "63a1f525-8062-4f94-aa48-d66bb17c63eb"
      },
      "source": [
        "a2 = np.array([[False, False, False],\n",
        "               [False, True, True],\n",
        "               [False, True, True]])\n",
        "print(a2)\n",
        "print(np.any(a2))\n",
        "print(np.any(a2, axis=0))\n",
        "print(np.any(a2, axis=1))\n",
        "\n"
      ],
      "execution_count": null,
      "outputs": [
        {
          "output_type": "stream",
          "text": [
            "[[False False False]\n",
            " [False  True  True]\n",
            " [False  True  True]]\n",
            "True\n",
            "[False  True  True]\n",
            "[False  True  True]\n"
          ],
          "name": "stdout"
        }
      ]
    },
    {
      "cell_type": "markdown",
      "metadata": {
        "id": "Uw-wjYgyONBZ"
      },
      "source": [
        "#### all()"
      ]
    },
    {
      "cell_type": "code",
      "metadata": {
        "id": "sXi2AHOHONYq",
        "colab": {
          "base_uri": "https://localhost:8080/"
        },
        "outputId": "bc403e65-690f-4f15-d763-06177fe6b77f"
      },
      "source": [
        "a2 = np.array([[False, False, True],\n",
        "               [True, True, True],\n",
        "               [False, True, True]])\n",
        "print(a2)\n",
        "print(np.all(a2))\n",
        "print(np.all(a2, axis=0))\n",
        "print(np.all(a2, axis=1))"
      ],
      "execution_count": null,
      "outputs": [
        {
          "output_type": "stream",
          "text": [
            "[[False False  True]\n",
            " [ True  True  True]\n",
            " [False  True  True]]\n",
            "False\n",
            "[False False  True]\n",
            "[False  True False]\n"
          ],
          "name": "stdout"
        }
      ]
    },
    {
      "cell_type": "markdown",
      "metadata": {
        "id": "0n7lgzmUwqr1"
      },
      "source": [
        "### 비교 연산(Comparison Operators)\n"
      ]
    },
    {
      "cell_type": "code",
      "metadata": {
        "id": "E00V-nBTVnCu",
        "colab": {
          "base_uri": "https://localhost:8080/"
        },
        "outputId": "fa59273b-39dc-44bd-eacd-40f73f41aeb5"
      },
      "source": [
        "a1 = np.arange(1, 10)\n",
        "print(a1)\n",
        "print(a1 == 5)\n",
        "print(a1 != 5)\n",
        "print(a1 < 5)\n",
        "print(a1 <=5)\n",
        "print(a1 > 5)\n",
        "print(a1 >=5)"
      ],
      "execution_count": null,
      "outputs": [
        {
          "output_type": "stream",
          "text": [
            "[1 2 3 4 5 6 7 8 9]\n",
            "[False False False False  True False False False False]\n",
            "[ True  True  True  True False  True  True  True  True]\n",
            "[ True  True  True  True False False False False False]\n",
            "[ True  True  True  True  True False False False False]\n",
            "[False False False False False  True  True  True  True]\n",
            "[False False False False  True  True  True  True  True]\n"
          ],
          "name": "stdout"
        }
      ]
    },
    {
      "cell_type": "code",
      "metadata": {
        "id": "3MwV1CU1WsWS",
        "colab": {
          "base_uri": "https://localhost:8080/"
        },
        "outputId": "88d85ad9-a722-455d-a5e0-0fd898275612"
      },
      "source": [
        "a2 = np.arange(1,10).reshape(3, 3)\n",
        "print(a2)\n",
        "print(np.sum(a2))\n",
        "print(np.count_nonzero(a2 >5))\n",
        "print(np.sum(a2 > 5, axis =0))\n",
        "print(np.sum(a2 > 5, axis =1))\n",
        "print(np.any(a2 >5))\n",
        "print(np.any(a2 >5, axis =0))\n",
        "print(np.any(a2 >5, axis =1))\n",
        "print(np.all(a2 >5))\n",
        "print(np.all(a2 >5, axis =0))\n",
        "print(np.all(a2 >5, axis =1))\n"
      ],
      "execution_count": null,
      "outputs": [
        {
          "output_type": "stream",
          "text": [
            "[[1 2 3]\n",
            " [4 5 6]\n",
            " [7 8 9]]\n",
            "45\n",
            "4\n",
            "[1 1 2]\n",
            "[0 1 3]\n",
            "True\n",
            "[ True  True  True]\n",
            "[False  True  True]\n",
            "False\n",
            "[False False False]\n",
            "[False False  True]\n"
          ],
          "name": "stdout"
        }
      ]
    },
    {
      "cell_type": "code",
      "metadata": {
        "id": "D4cuMoyEPn8R",
        "colab": {
          "base_uri": "https://localhost:8080/"
        },
        "outputId": "54ba0cfd-77dc-4087-f66d-5f1f686f95a0"
      },
      "source": [
        "a1 = np.array([1,2,3,4,5])\n",
        "print(a1)\n",
        "b1 = np.array([1,2,3,3,4])\n",
        "print(b1)\n",
        "print(np.isclose(a1, b1))"
      ],
      "execution_count": null,
      "outputs": [
        {
          "output_type": "stream",
          "text": [
            "[1 2 3 4 5]\n",
            "[1 2 3 3 4]\n",
            "[ True  True  True False False]\n"
          ],
          "name": "stdout"
        }
      ]
    },
    {
      "cell_type": "code",
      "metadata": {
        "id": "af9VSc6FyMBh",
        "colab": {
          "base_uri": "https://localhost:8080/"
        },
        "outputId": "239afe3c-8e62-40a6-aa4f-a89c71925f2c"
      },
      "source": [
        "a1 = np.array([np.nan, 2, np.inf, 4, np.NINF])\n",
        "print(a1)\n",
        "print(np.isnan(a1))\n",
        "print(np.isinf(a1))\n",
        "print(np.isfinite(a1))"
      ],
      "execution_count": null,
      "outputs": [
        {
          "output_type": "stream",
          "text": [
            "[ nan   2.  inf   4. -inf]\n",
            "[ True False False False False]\n",
            "[False False  True False  True]\n",
            "[False  True False  True False]\n"
          ],
          "name": "stdout"
        }
      ]
    },
    {
      "cell_type": "markdown",
      "metadata": {
        "id": "4BHMetMlYmt-"
      },
      "source": [
        "#### 불리언 연산자(Boolean Operators)\n"
      ]
    },
    {
      "cell_type": "code",
      "metadata": {
        "id": "ZV1-8DkUHOZq",
        "colab": {
          "base_uri": "https://localhost:8080/"
        },
        "outputId": "5152bf77-96ff-418f-f3e1-baf420c6f83e"
      },
      "source": [
        "a2 = np.arange(1, 10).reshape(3,3)\n",
        "print(a2)\n",
        "\n",
        "print((a2 > 5) & (a2 <8))\n",
        "print(a2[(a2 > 5) & (a2 <8)])\n",
        "\n",
        "print((a2 > 5) | (a2 <8))\n",
        "print(a2[(a2 > 5) | (a2 <8)])\n",
        "\n",
        "print((a2 > 5) ^ (a2 <8))\n",
        "print(a2[(a2 > 5) ^ (a2 <8)])\n",
        "\n",
        "print(~(a2 > 5)) \n",
        "print(a2[~(a2 > 5)])"
      ],
      "execution_count": null,
      "outputs": [
        {
          "output_type": "stream",
          "text": [
            "[[1 2 3]\n",
            " [4 5 6]\n",
            " [7 8 9]]\n",
            "[[False False False]\n",
            " [False False  True]\n",
            " [ True False False]]\n",
            "[6 7]\n",
            "[[ True  True  True]\n",
            " [ True  True  True]\n",
            " [ True  True  True]]\n",
            "[1 2 3 4 5 6 7 8 9]\n",
            "[[ True  True  True]\n",
            " [ True  True False]\n",
            " [False  True  True]]\n",
            "[1 2 3 4 5 8 9]\n",
            "[[ True  True  True]\n",
            " [ True  True False]\n",
            " [False False False]]\n",
            "[1 2 3 4 5]\n"
          ],
          "name": "stdout"
        }
      ]
    },
    {
      "cell_type": "markdown",
      "metadata": {
        "id": "FlQJVeGBxIFw"
      },
      "source": [
        "### 배열 정렬"
      ]
    },
    {
      "cell_type": "code",
      "metadata": {
        "id": "x0sodUMqLU37",
        "colab": {
          "base_uri": "https://localhost:8080/"
        },
        "outputId": "d900cf07-0a86-4261-f7f6-83676013b034"
      },
      "source": [
        "a1 = np.random.randint(1, 10, size=10)\n",
        "print(a1)\n",
        "print(np.sort(a1))\n",
        "print(a1)\n",
        "print(np.argsort(a1))\n",
        "print(a1)\n",
        "print(a1.sort())\n",
        "print(a1)"
      ],
      "execution_count": null,
      "outputs": [
        {
          "output_type": "stream",
          "text": [
            "[1 8 8 9 3 1 4 4 1 6]\n",
            "[1 1 1 3 4 4 6 8 8 9]\n",
            "[1 8 8 9 3 1 4 4 1 6]\n",
            "[0 5 8 4 6 7 9 1 2 3]\n",
            "[1 8 8 9 3 1 4 4 1 6]\n",
            "None\n",
            "[1 1 1 3 4 4 6 8 8 9]\n"
          ],
          "name": "stdout"
        }
      ]
    },
    {
      "cell_type": "code",
      "metadata": {
        "id": "FO_sO5POzeMp",
        "colab": {
          "base_uri": "https://localhost:8080/"
        },
        "outputId": "9524a32f-d2ac-49e7-a489-a423b9b75dbe"
      },
      "source": [
        "a2 = np.random.randint(1, 10, size=(3,3))\n",
        "print(a2)\n",
        "print(np.sort(a2, axis=0))\n",
        "print(np.sort(a2, axis=1))"
      ],
      "execution_count": null,
      "outputs": [
        {
          "output_type": "stream",
          "text": [
            "[[7 5 6]\n",
            " [4 9 3]\n",
            " [4 9 1]]\n",
            "[[4 5 1]\n",
            " [4 9 3]\n",
            " [7 9 6]]\n",
            "[[5 6 7]\n",
            " [3 4 9]\n",
            " [1 4 9]]\n"
          ],
          "name": "stdout"
        }
      ]
    },
    {
      "cell_type": "markdown",
      "metadata": {
        "id": "yYSItPz_00sZ"
      },
      "source": [
        "#### 부분 정렬\n",
        "\n",
        "* `partition()`: 배열에서 k개의 작은 값을 반환"
      ]
    },
    {
      "cell_type": "code",
      "metadata": {
        "id": "QQwov4N00YFP",
        "colab": {
          "base_uri": "https://localhost:8080/"
        },
        "outputId": "63849ec4-2380-4466-b31e-4a488e4c3d6b"
      },
      "source": [
        "a1 = np.random.randint(1, 10, size=10)\n",
        "print(a1)\n",
        "print(np.partition(a1, 3))"
      ],
      "execution_count": null,
      "outputs": [
        {
          "output_type": "stream",
          "text": [
            "[4 5 6 5 8 2 7 5 3 9]\n",
            "[4 3 2 5 5 6 7 5 8 9]\n"
          ],
          "name": "stdout"
        }
      ]
    },
    {
      "cell_type": "code",
      "metadata": {
        "colab": {
          "base_uri": "https://localhost:8080/"
        },
        "id": "MRwceCm6IU6L",
        "outputId": "88af4436-38b2-4f87-ac6e-9e5266b309e7"
      },
      "source": [
        "a2 = np.random.randint(1, 10, size=(5,5))\n",
        "print(a2)\n",
        "print(np.partition(a2, 3))\n",
        "print(np.partition(a2, 3, axis=0))\n",
        "print(np.partition(a2, 3, axis=1))"
      ],
      "execution_count": null,
      "outputs": [
        {
          "output_type": "stream",
          "text": [
            "[[8 4 4 2 6]\n",
            " [7 5 7 4 9]\n",
            " [1 3 6 4 7]\n",
            " [3 7 3 1 5]\n",
            " [6 3 5 8 7]]\n",
            "[[2 4 4 6 8]\n",
            " [4 7 5 7 9]\n",
            " [4 1 3 6 7]\n",
            " [1 3 3 5 7]\n",
            " [3 5 6 7 8]]\n",
            "[[3 3 3 1 5]\n",
            " [1 3 4 2 6]\n",
            " [6 4 5 4 7]\n",
            " [7 5 6 4 7]\n",
            " [8 7 7 8 9]]\n",
            "[[2 4 4 6 8]\n",
            " [4 7 5 7 9]\n",
            " [4 1 3 6 7]\n",
            " [1 3 3 5 7]\n",
            " [3 5 6 7 8]]\n"
          ],
          "name": "stdout"
        }
      ]
    },
    {
      "cell_type": "markdown",
      "metadata": {
        "id": "77DSA72ML5cI"
      },
      "source": [
        "## 배열 입출력\n"
      ]
    },
    {
      "cell_type": "code",
      "metadata": {
        "id": "da-Mm_gzIs7U",
        "colab": {
          "base_uri": "https://localhost:8080/"
        },
        "outputId": "84584e7c-44f9-4c7d-e6b9-24edf7c69252"
      },
      "source": [
        "a2 = np.random.randint(1, 10, size=(5,5))\n",
        "print(a2)\n",
        "np.save(\"a\", a2)"
      ],
      "execution_count": null,
      "outputs": [
        {
          "output_type": "stream",
          "text": [
            "[[1 3 2 6 2]\n",
            " [3 8 6 2 5]\n",
            " [8 6 4 9 9]\n",
            " [5 9 9 3 1]\n",
            " [5 8 2 8 2]]\n"
          ],
          "name": "stdout"
        }
      ]
    },
    {
      "cell_type": "code",
      "metadata": {
        "id": "pFOWyDvAsf11",
        "colab": {
          "base_uri": "https://localhost:8080/"
        },
        "outputId": "013aafb0-1a43-4663-dfb3-a4342906a9c0"
      },
      "source": [
        "!ls"
      ],
      "execution_count": null,
      "outputs": [
        {
          "output_type": "stream",
          "text": [
            "a.npy  sample_data\n"
          ],
          "name": "stdout"
        }
      ]
    },
    {
      "cell_type": "code",
      "metadata": {
        "id": "Hvb_ilyisoIV",
        "colab": {
          "base_uri": "https://localhost:8080/"
        },
        "outputId": "0ba65d11-405f-4f60-860a-ff09e2880a82"
      },
      "source": [
        "b2 = np.random.randint(1, 10, size=(5,5))\n",
        "print(b2)\n",
        "np.savez(\"ab\", a2, b2)"
      ],
      "execution_count": null,
      "outputs": [
        {
          "output_type": "stream",
          "text": [
            "[[1 7 9 6 7]\n",
            " [5 6 5 1 5]\n",
            " [9 8 4 9 8]\n",
            " [3 5 1 6 3]\n",
            " [6 3 5 4 5]]\n"
          ],
          "name": "stdout"
        }
      ]
    },
    {
      "cell_type": "code",
      "metadata": {
        "id": "ArWZfL31s1wU",
        "colab": {
          "base_uri": "https://localhost:8080/"
        },
        "outputId": "8601e63e-1f5c-4a29-c149-2c31a5f3829a"
      },
      "source": [
        "!ls"
      ],
      "execution_count": null,
      "outputs": [
        {
          "output_type": "stream",
          "text": [
            "ab.npz\ta.npy  sample_data\n"
          ],
          "name": "stdout"
        }
      ]
    },
    {
      "cell_type": "code",
      "metadata": {
        "id": "che4cEJEs2Tr",
        "colab": {
          "base_uri": "https://localhost:8080/"
        },
        "outputId": "c745d7ca-6f32-43da-c95e-ed56c288014d"
      },
      "source": [
        "npy = np.load(\"a.npy\")\n",
        "print(npy)"
      ],
      "execution_count": null,
      "outputs": [
        {
          "output_type": "stream",
          "text": [
            "[[1 3 2 6 2]\n",
            " [3 8 6 2 5]\n",
            " [8 6 4 9 9]\n",
            " [5 9 9 3 1]\n",
            " [5 8 2 8 2]]\n"
          ],
          "name": "stdout"
        }
      ]
    },
    {
      "cell_type": "code",
      "metadata": {
        "id": "X2yIUsYvtMj6",
        "colab": {
          "base_uri": "https://localhost:8080/"
        },
        "outputId": "c7582595-7c9d-4c96-a776-479c26396416"
      },
      "source": [
        "npz = np.load(\"ab.npz\")\n",
        "print(npz.files)\n",
        "print(npz['arr_0'])\n",
        "print(npz['arr_1'])"
      ],
      "execution_count": null,
      "outputs": [
        {
          "output_type": "stream",
          "text": [
            "['arr_0', 'arr_1']\n",
            "[[1 3 2 6 2]\n",
            " [3 8 6 2 5]\n",
            " [8 6 4 9 9]\n",
            " [5 9 9 3 1]\n",
            " [5 8 2 8 2]]\n",
            "[[1 7 9 6 7]\n",
            " [5 6 5 1 5]\n",
            " [9 8 4 9 8]\n",
            " [3 5 1 6 3]\n",
            " [6 3 5 4 5]]\n"
          ],
          "name": "stdout"
        }
      ]
    },
    {
      "cell_type": "code",
      "metadata": {
        "id": "Yj5ec-CYtaH1",
        "colab": {
          "base_uri": "https://localhost:8080/"
        },
        "outputId": "222c5364-1b01-4b94-de97-213b0782826a"
      },
      "source": [
        "print(a2)\n",
        "np.savetxt(\"a.csv\", a2, delimiter=',')"
      ],
      "execution_count": null,
      "outputs": [
        {
          "output_type": "stream",
          "text": [
            "[[1 3 2 6 2]\n",
            " [3 8 6 2 5]\n",
            " [8 6 4 9 9]\n",
            " [5 9 9 3 1]\n",
            " [5 8 2 8 2]]\n"
          ],
          "name": "stdout"
        }
      ]
    },
    {
      "cell_type": "code",
      "metadata": {
        "id": "_NIDrc-VuPmv",
        "colab": {
          "base_uri": "https://localhost:8080/"
        },
        "outputId": "6a1ba149-4530-4c10-d258-497e76f3400e"
      },
      "source": [
        "!ls"
      ],
      "execution_count": null,
      "outputs": [
        {
          "output_type": "stream",
          "text": [
            "ab.npz\ta.csv  a.npy  sample_data\n"
          ],
          "name": "stdout"
        }
      ]
    },
    {
      "cell_type": "code",
      "metadata": {
        "id": "bPhmIoVBuQMf",
        "colab": {
          "base_uri": "https://localhost:8080/"
        },
        "outputId": "1183e59f-73fd-4b30-83f3-ec52560b106c"
      },
      "source": [
        "!cat a.csv"
      ],
      "execution_count": null,
      "outputs": [
        {
          "output_type": "stream",
          "text": [
            "1.000000000000000000e+00,3.000000000000000000e+00,2.000000000000000000e+00,6.000000000000000000e+00,2.000000000000000000e+00\n",
            "3.000000000000000000e+00,8.000000000000000000e+00,6.000000000000000000e+00,2.000000000000000000e+00,5.000000000000000000e+00\n",
            "8.000000000000000000e+00,6.000000000000000000e+00,4.000000000000000000e+00,9.000000000000000000e+00,9.000000000000000000e+00\n",
            "5.000000000000000000e+00,9.000000000000000000e+00,9.000000000000000000e+00,3.000000000000000000e+00,1.000000000000000000e+00\n",
            "5.000000000000000000e+00,8.000000000000000000e+00,2.000000000000000000e+00,8.000000000000000000e+00,2.000000000000000000e+00\n"
          ],
          "name": "stdout"
        }
      ]
    },
    {
      "cell_type": "code",
      "metadata": {
        "id": "FeB2p4azuTDv",
        "colab": {
          "base_uri": "https://localhost:8080/"
        },
        "outputId": "b72d6d76-993a-4d65-9ce3-cccc3e55f38c"
      },
      "source": [
        "csv = np.loadtxt(\"a.csv\", delimiter=\",\")\n",
        "print(csv)"
      ],
      "execution_count": null,
      "outputs": [
        {
          "output_type": "stream",
          "text": [
            "[[1. 3. 2. 6. 2.]\n",
            " [3. 8. 6. 2. 5.]\n",
            " [8. 6. 4. 9. 9.]\n",
            " [5. 9. 9. 3. 1.]\n",
            " [5. 8. 2. 8. 2.]]\n"
          ],
          "name": "stdout"
        }
      ]
    },
    {
      "cell_type": "code",
      "metadata": {
        "id": "IUg8Vg4fuxR5",
        "colab": {
          "base_uri": "https://localhost:8080/"
        },
        "outputId": "43be1c03-e97e-45bf-8643-42c6b328da54"
      },
      "source": [
        "print(b2)\n",
        "np.savetxt(\"b.csv\", b2, delimiter=',', fmt='%.2e', header='cl, c2, c3, c4, c5')"
      ],
      "execution_count": null,
      "outputs": [
        {
          "output_type": "stream",
          "text": [
            "[[1 7 9 6 7]\n",
            " [5 6 5 1 5]\n",
            " [9 8 4 9 8]\n",
            " [3 5 1 6 3]\n",
            " [6 3 5 4 5]]\n"
          ],
          "name": "stdout"
        }
      ]
    },
    {
      "cell_type": "code",
      "metadata": {
        "id": "lIK5dSv6vtm2",
        "colab": {
          "base_uri": "https://localhost:8080/"
        },
        "outputId": "85e66fd5-ea82-4421-c5cc-5c1e422c3d3d"
      },
      "source": [
        "!cat b.csv"
      ],
      "execution_count": null,
      "outputs": [
        {
          "output_type": "stream",
          "text": [
            "# cl, c2, c3, c4, c5\n",
            "1.00e+00,7.00e+00,9.00e+00,6.00e+00,7.00e+00\n",
            "5.00e+00,6.00e+00,5.00e+00,1.00e+00,5.00e+00\n",
            "9.00e+00,8.00e+00,4.00e+00,9.00e+00,8.00e+00\n",
            "3.00e+00,5.00e+00,1.00e+00,6.00e+00,3.00e+00\n",
            "6.00e+00,3.00e+00,5.00e+00,4.00e+00,5.00e+00\n"
          ],
          "name": "stdout"
        }
      ]
    },
    {
      "cell_type": "code",
      "metadata": {
        "id": "l4O-gVxdv8-d",
        "colab": {
          "base_uri": "https://localhost:8080/"
        },
        "outputId": "361720a5-d1bf-4bd8-c3ad-82dc3389a67f"
      },
      "source": [
        "csv = np.loadtxt(\"b.csv\", delimiter=',')\n",
        "print(csv)"
      ],
      "execution_count": null,
      "outputs": [
        {
          "output_type": "stream",
          "text": [
            "[[1. 7. 9. 6. 7.]\n",
            " [5. 6. 5. 1. 5.]\n",
            " [9. 8. 4. 9. 8.]\n",
            " [3. 5. 1. 6. 3.]\n",
            " [6. 3. 5. 4. 5.]]\n"
          ],
          "name": "stdout"
        }
      ]
    },
    {
      "cell_type": "markdown",
      "metadata": {
        "id": "JM2Ghx2NGloN"
      },
      "source": [
        "\n",
        "\n",
        "---\n",
        "\n"
      ]
    },
    {
      "cell_type": "markdown",
      "metadata": {
        "id": "pszvq7pkKshz"
      },
      "source": [
        "# New Section"
      ]
    }
  ]
}